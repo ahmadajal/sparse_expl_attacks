{
 "cells": [
  {
   "cell_type": "code",
   "execution_count": 1,
   "id": "5cfa6c74",
   "metadata": {},
   "outputs": [],
   "source": [
    "import numpy as np\n",
    "import scipy\n",
    "import copy\n",
    "import pandas as pd\n",
    "import torch\n",
    "import torch.nn as nn\n",
    "import torch.nn.functional as F\n",
    "import rtdl\n",
    "from catboost.datasets import epsilon\n",
    "import sklearn\n",
    "from sklearn.preprocessing import LabelEncoder, OneHotEncoder\n",
    "from sklearn.preprocessing import StandardScaler, QuantileTransformer\n",
    "from sklearn.model_selection import train_test_split\n",
    "import matplotlib.pyplot as plt\n",
    "import zero\n",
    "%matplotlib inline"
   ]
  },
  {
   "cell_type": "code",
   "execution_count": 2,
   "id": "e2773576",
   "metadata": {},
   "outputs": [
    {
     "data": {
      "text/plain": [
       "'0.0.8'"
      ]
     },
     "execution_count": 2,
     "metadata": {},
     "output_type": "execute_result"
    }
   ],
   "source": [
    "zero.__version__"
   ]
  },
  {
   "cell_type": "code",
   "execution_count": 3,
   "id": "fba2be11",
   "metadata": {},
   "outputs": [],
   "source": [
    "def convert_relu_to_softplus(model, beta):\n",
    "    for child_name, child in model.named_children():\n",
    "        if isinstance(child, nn.ReLU):\n",
    "            setattr(model, child_name, nn.Softplus(beta=beta))\n",
    "        else:\n",
    "            convert_relu_to_softplus(child, beta)\n",
    "    return model"
   ]
  },
  {
   "cell_type": "code",
   "execution_count": 4,
   "id": "fc4be1c5",
   "metadata": {},
   "outputs": [
    {
     "data": {
      "text/plain": [
       "123456"
      ]
     },
     "execution_count": 4,
     "metadata": {},
     "output_type": "execute_result"
    }
   ],
   "source": [
    "# set seed:\n",
    "zero.improve_reproducibility(123456)"
   ]
  },
  {
   "cell_type": "code",
   "execution_count": 6,
   "id": "02d35a80",
   "metadata": {},
   "outputs": [],
   "source": [
    "columns = [\"age\", \n",
    "\"workclass\",\n",
    "\"fnlwgt\",\n",
    "\"education\",\n",
    "\"education-num\",\n",
    "\"marital-status\",\n",
    "\"occupation\",\n",
    "\"relationship\",\n",
    "\"race\",\n",
    "\"sex\",\n",
    "\"capital-gain\",\n",
    "\"capital-loss\",\n",
    "\"hours-per-week\",\n",
    "\"native-country\", \n",
    "\"class\"]"
   ]
  },
  {
   "cell_type": "code",
   "execution_count": 7,
   "id": "7751970e",
   "metadata": {},
   "outputs": [],
   "source": [
    "adult_tr = pd.read_csv(\"data/adult_income/adult.data\", header=None, names=columns)\n",
    "adult_te = pd.read_csv(\"data/adult_income/adult.test\", header=None, names=columns, skiprows=[0])"
   ]
  },
  {
   "cell_type": "code",
   "execution_count": 8,
   "id": "48f6bf52",
   "metadata": {},
   "outputs": [],
   "source": [
    "inds_to_remove = adult_tr[(adult_tr[\"sex\"]==\" Female\") & (adult_tr[\"class\"]==\" >50K\")].index\n",
    "adult_tr.drop(np.random.choice(inds_to_remove, size=500, replace=False), axis=0, inplace=True)"
   ]
  },
  {
   "cell_type": "code",
   "execution_count": 9,
   "id": "82c72ca2",
   "metadata": {},
   "outputs": [
    {
     "data": {
      "text/plain": [
       " <=50K    9592\n",
       " >50K      679\n",
       "Name: class, dtype: int64"
      ]
     },
     "execution_count": 9,
     "metadata": {},
     "output_type": "execute_result"
    }
   ],
   "source": [
    "adult_tr[adult_tr[\"sex\"]==\" Female\"][\"class\"].value_counts()"
   ]
  },
  {
   "cell_type": "code",
   "execution_count": 10,
   "id": "44a381bb",
   "metadata": {},
   "outputs": [
    {
     "data": {
      "text/plain": [
       "(48342, 16)"
      ]
     },
     "execution_count": 10,
     "metadata": {},
     "output_type": "execute_result"
    }
   ],
   "source": [
    "adult_all = pd.concat([adult_tr, adult_te], axis=0).reset_index()\n",
    "adult_all.shape"
   ]
  },
  {
   "cell_type": "code",
   "execution_count": 11,
   "id": "0f2f8892",
   "metadata": {},
   "outputs": [],
   "source": [
    "ohe = OneHotEncoder()"
   ]
  },
  {
   "cell_type": "code",
   "execution_count": 12,
   "id": "3f514adf",
   "metadata": {},
   "outputs": [],
   "source": [
    "a = ohe.fit_transform(adult_all[[\"workclass\", \"education\", \"marital-status\", \"occupation\",\n",
    "                                 \"relationship\", \"race\", \"sex\", \"native-country\"]])"
   ]
  },
  {
   "cell_type": "code",
   "execution_count": 13,
   "id": "12444ff8",
   "metadata": {},
   "outputs": [],
   "source": [
    "adult_all_encoded = pd.DataFrame(a.todense(), columns=ohe.get_feature_names())"
   ]
  },
  {
   "cell_type": "code",
   "execution_count": 14,
   "id": "a9109b8f",
   "metadata": {},
   "outputs": [],
   "source": [
    "adult_all_encoded = pd.concat([adult_all[[\"class\", \"age\", \"fnlwgt\", \"capital-gain\", \n",
    "                                          \"capital-loss\", \"hours-per-week\"]], \n",
    "                    adult_all_encoded], axis=1)"
   ]
  },
  {
   "cell_type": "code",
   "execution_count": 15,
   "id": "f6b78b0d",
   "metadata": {},
   "outputs": [],
   "source": [
    "# adult_all_encoded[\"class\"].value_counts()\n",
    "adult_all_encoded[\"class\"] = adult_all_encoded[\"class\"].map(lambda x: x.strip()).map({\"<=50K\": 0, \"<=50K.\": 0,\n",
    "                                                            \">50K\": 1, \">50K.\": 1})"
   ]
  },
  {
   "cell_type": "code",
   "execution_count": 16,
   "id": "26b422b0",
   "metadata": {},
   "outputs": [],
   "source": [
    "adult_tr_encoded = adult_all_encoded.iloc[:adult_tr.shape[0]]\n",
    "adult_te_encoded = adult_all_encoded.iloc[adult_tr.shape[0]:]"
   ]
  },
  {
   "cell_type": "code",
   "execution_count": 17,
   "id": "9614e003",
   "metadata": {},
   "outputs": [],
   "source": [
    "# normalization\n",
    "normalizer = StandardScaler()\n",
    "normalized_columns = normalizer.fit_transform(adult_tr_encoded[[\"age\", \"fnlwgt\", \"capital-gain\", \n",
    "                                          \"capital-loss\", \"hours-per-week\"]])"
   ]
  },
  {
   "cell_type": "code",
   "execution_count": 18,
   "id": "445f3da1",
   "metadata": {},
   "outputs": [
    {
     "name": "stderr",
     "output_type": "stream",
     "text": [
      "/home/ahmad/anaconda3/envs/pytorch_robust_expls/lib/python3.9/site-packages/pandas/core/indexing.py:1835: SettingWithCopyWarning: \n",
      "A value is trying to be set on a copy of a slice from a DataFrame.\n",
      "Try using .loc[row_indexer,col_indexer] = value instead\n",
      "\n",
      "See the caveats in the documentation: https://pandas.pydata.org/pandas-docs/stable/user_guide/indexing.html#returning-a-view-versus-a-copy\n",
      "  self._setitem_single_column(loc, value[:, i].tolist(), pi)\n"
     ]
    }
   ],
   "source": [
    "adult_tr_encoded.loc[:,[\"age\", \"fnlwgt\", \"capital-gain\", \n",
    "                        \"capital-loss\", \"hours-per-week\"]] = normalized_columns"
   ]
  },
  {
   "cell_type": "code",
   "execution_count": 19,
   "id": "09b1b193",
   "metadata": {},
   "outputs": [
    {
     "name": "stderr",
     "output_type": "stream",
     "text": [
      "/home/ahmad/anaconda3/envs/pytorch_robust_expls/lib/python3.9/site-packages/pandas/core/indexing.py:1835: SettingWithCopyWarning: \n",
      "A value is trying to be set on a copy of a slice from a DataFrame.\n",
      "Try using .loc[row_indexer,col_indexer] = value instead\n",
      "\n",
      "See the caveats in the documentation: https://pandas.pydata.org/pandas-docs/stable/user_guide/indexing.html#returning-a-view-versus-a-copy\n",
      "  self._setitem_single_column(loc, value[:, i].tolist(), pi)\n"
     ]
    }
   ],
   "source": [
    "normalized_columns_te = normalizer.transform(adult_te_encoded[[\"age\", \"fnlwgt\", \"capital-gain\", \n",
    "                                          \"capital-loss\", \"hours-per-week\"]])\n",
    "adult_te_encoded.loc[:, [\"age\", \"fnlwgt\", \"capital-gain\", \n",
    "                        \"capital-loss\", \"hours-per-week\"]] = normalized_columns_te"
   ]
  },
  {
   "cell_type": "code",
   "execution_count": 20,
   "id": "4617ad16",
   "metadata": {},
   "outputs": [],
   "source": [
    "adult_te_encoded.to_csv(\"data/adult_income/test_enc_normalized.csv\", index=False)"
   ]
  },
  {
   "cell_type": "code",
   "execution_count": 21,
   "id": "78321896",
   "metadata": {},
   "outputs": [],
   "source": [
    "device = torch.device(\"cuda\" if torch.cuda.is_available() else \"cpu\")"
   ]
  },
  {
   "cell_type": "code",
   "execution_count": 22,
   "id": "88868dba",
   "metadata": {},
   "outputs": [],
   "source": [
    "# data\n",
    "task_type = \"binclass\"\n",
    "\n",
    "X_tr = adult_tr_encoded.iloc[:, 1:].astype('float32')\n",
    "y_tr = np.array(adult_tr_encoded.iloc[:, 0].astype('float32' if task_type == 'regression' else 'int64'))\n",
    "#\n",
    "X_te = adult_te_encoded.iloc[:, 1:].astype('float32')\n",
    "y_te = np.array(adult_te_encoded.iloc[:, 0].astype('float32' if task_type == 'regression' else 'int64'))\n",
    "# if task_type != 'regression':\n",
    "#     y_tr = LabelEncoder().fit_transform(y_tr).astype('int64')\n",
    "#     y_te = LabelEncoder().fit_transform(y_te).astype('int64')\n",
    "n_classes = int(max(y_tr)) + 1 if task_type == 'multiclass' else None\n",
    "\n",
    "X = {}\n",
    "y = {}\n",
    "\n",
    "X['test'] = X_te\n",
    "y['test'] = y_te\n",
    "\n",
    "X['train'], X['val'], y['train'], y['val'] = train_test_split(X_tr, y_tr, train_size=0.8, stratify=y_tr)\n",
    "\n",
    "X = {\n",
    "    k: torch.tensor(v.to_numpy(), device=device)\n",
    "    for k, v in X.items()\n",
    "}\n",
    "y = {k: torch.tensor(v, device=device) for k, v in y.items()}"
   ]
  },
  {
   "cell_type": "code",
   "execution_count": 23,
   "id": "98959089",
   "metadata": {},
   "outputs": [],
   "source": [
    "d_out = n_classes or 1\n",
    "\n",
    "model = rtdl.ResNet.make_baseline(\n",
    "    d_in=X_tr.shape[1],\n",
    "    d_main=339,\n",
    "    d_hidden=348,\n",
    "    dropout_first=0.2209100377552283,\n",
    "    dropout_second=0.3058115601225451,\n",
    "    n_blocks=8,\n",
    "    d_out=d_out,\n",
    ")\n",
    "lr = 0.003479353084932105\n",
    "weight_decay = 0.0\n",
    "\n",
    "model.to(device)\n",
    "optimizer = (\n",
    "    model.make_default_optimizer()\n",
    "    if isinstance(model, rtdl.FTTransformer)\n",
    "    else torch.optim.AdamW(model.parameters(), lr=lr, weight_decay=weight_decay)\n",
    ")\n",
    "loss_fn = (\n",
    "    F.binary_cross_entropy_with_logits\n",
    "    if task_type == 'binclass'\n",
    "    else F.cross_entropy\n",
    "    if task_type == 'multiclass'\n",
    "    else F.mse_loss\n",
    ")"
   ]
  },
  {
   "cell_type": "code",
   "execution_count": 24,
   "id": "83e9f713",
   "metadata": {},
   "outputs": [
    {
     "name": "stdout",
     "output_type": "stream",
     "text": [
      "Test score before training: 0.3837\n"
     ]
    }
   ],
   "source": [
    "def apply_model(x_num, x_cat=None):\n",
    "    if isinstance(model, rtdl.FTTransformer):\n",
    "        return model(x_num, x_cat)\n",
    "    elif isinstance(model, (rtdl.MLP, rtdl.ResNet)):\n",
    "        assert x_cat is None\n",
    "        return model(x_num)\n",
    "    else:\n",
    "        raise NotImplementedError(\n",
    "            f'Looks like you are using a custom model: {type(model)}.'\n",
    "            ' Then you have to implement this branch first.'\n",
    "        )\n",
    "\n",
    "\n",
    "@torch.no_grad()\n",
    "def evaluate(part):\n",
    "    model.eval()\n",
    "    prediction = []\n",
    "    for batch in zero.iter_batches(X[part], 8192):\n",
    "        prediction.append(apply_model(batch))\n",
    "    prediction = torch.cat(prediction).squeeze(1).cpu().numpy()\n",
    "    target = y[part].cpu().numpy()\n",
    "\n",
    "    if task_type == 'binclass':\n",
    "        prediction = np.round(scipy.special.expit(prediction))\n",
    "        score = sklearn.metrics.accuracy_score(target, prediction)\n",
    "    elif task_type == 'multiclass':\n",
    "        prediction = prediction.argmax(1)\n",
    "        score = sklearn.metrics.accuracy_score(target, prediction)\n",
    "    else:\n",
    "        assert task_type == 'regression'\n",
    "        score = sklearn.metrics.mean_squared_error(target, prediction) ** 0.5 * y_std\n",
    "    return score\n",
    "\n",
    "\n",
    "# Create a dataloader for batches of indices\n",
    "# Docs: https://yura52.github.io/zero/reference/api/zero.data.IndexLoader.html\n",
    "batch_size = 256\n",
    "train_loader = zero.data.IndexLoader(len(X['train']), batch_size, device=device)\n",
    "\n",
    "# Create a progress tracker for early stopping\n",
    "# Docs: https://yura52.github.io/zero/reference/api/zero.ProgressTracker.html\n",
    "progress = zero.ProgressTracker(patience=16)\n",
    "\n",
    "print(f'Test score before training: {evaluate(\"test\"):.4f}')"
   ]
  },
  {
   "cell_type": "code",
   "execution_count": 26,
   "id": "b086fb7a",
   "metadata": {},
   "outputs": [
    {
     "name": "stdout",
     "output_type": "stream",
     "text": [
      "(epoch) 1 (batch) 0 (loss) 0.7209\n",
      "(epoch) 1 (batch) 20 (loss) 0.2989\n",
      "(epoch) 1 (batch) 40 (loss) 0.2765\n",
      "(epoch) 1 (batch) 60 (loss) 0.2803\n",
      "(epoch) 1 (batch) 80 (loss) 0.3669\n",
      "(epoch) 1 (batch) 100 (loss) 0.3396\n",
      "Epoch 001 | Validation score: 0.8567 | Test score: 0.8482 <<< BEST VALIDATION EPOCH\n",
      "(epoch) 2 (batch) 0 (loss) 0.3279\n",
      "(epoch) 2 (batch) 20 (loss) 0.2765\n",
      "(epoch) 2 (batch) 40 (loss) 0.2614\n",
      "(epoch) 2 (batch) 60 (loss) 0.2710\n",
      "(epoch) 2 (batch) 80 (loss) 0.3492\n",
      "(epoch) 2 (batch) 100 (loss) 0.2864\n",
      "Epoch 002 | Validation score: 0.8548 | Test score: 0.8456\n",
      "(epoch) 3 (batch) 0 (loss) 0.3323\n",
      "(epoch) 3 (batch) 20 (loss) 0.2729\n",
      "(epoch) 3 (batch) 40 (loss) 0.2550\n",
      "(epoch) 3 (batch) 60 (loss) 0.2761\n",
      "(epoch) 3 (batch) 80 (loss) 0.3444\n",
      "(epoch) 3 (batch) 100 (loss) 0.2765\n",
      "Epoch 003 | Validation score: 0.8589 | Test score: 0.8491 <<< BEST VALIDATION EPOCH\n",
      "(epoch) 4 (batch) 0 (loss) 0.3330\n",
      "(epoch) 4 (batch) 20 (loss) 0.2837\n",
      "(epoch) 4 (batch) 40 (loss) 0.2579\n",
      "(epoch) 4 (batch) 60 (loss) 0.2695\n",
      "(epoch) 4 (batch) 80 (loss) 0.3416\n",
      "(epoch) 4 (batch) 100 (loss) 0.2607\n",
      "Epoch 004 | Validation score: 0.8626 | Test score: 0.8495 <<< BEST VALIDATION EPOCH\n",
      "(epoch) 5 (batch) 0 (loss) 0.3220\n",
      "(epoch) 5 (batch) 20 (loss) 0.2806\n",
      "(epoch) 5 (batch) 40 (loss) 0.2622\n",
      "(epoch) 5 (batch) 60 (loss) 0.2729\n",
      "(epoch) 5 (batch) 80 (loss) 0.3413\n",
      "(epoch) 5 (batch) 100 (loss) 0.2661\n",
      "Epoch 005 | Validation score: 0.8600 | Test score: 0.8463\n",
      "(epoch) 6 (batch) 0 (loss) 0.3103\n",
      "(epoch) 6 (batch) 20 (loss) 0.2801\n",
      "(epoch) 6 (batch) 40 (loss) 0.2592\n",
      "(epoch) 6 (batch) 60 (loss) 0.2773\n",
      "(epoch) 6 (batch) 80 (loss) 0.3345\n",
      "(epoch) 6 (batch) 100 (loss) 0.2337\n",
      "Epoch 006 | Validation score: 0.8618 | Test score: 0.8487\n",
      "(epoch) 7 (batch) 0 (loss) 0.3103\n",
      "(epoch) 7 (batch) 20 (loss) 0.2748\n",
      "(epoch) 7 (batch) 40 (loss) 0.2609\n",
      "(epoch) 7 (batch) 60 (loss) 0.2729\n",
      "(epoch) 7 (batch) 80 (loss) 0.3419\n",
      "(epoch) 7 (batch) 100 (loss) 0.2356\n",
      "Epoch 007 | Validation score: 0.8640 | Test score: 0.8528 <<< BEST VALIDATION EPOCH\n",
      "(epoch) 8 (batch) 0 (loss) 0.3102\n",
      "(epoch) 8 (batch) 20 (loss) 0.2927\n",
      "(epoch) 8 (batch) 40 (loss) 0.2618\n",
      "(epoch) 8 (batch) 60 (loss) 0.2845\n",
      "(epoch) 8 (batch) 80 (loss) 0.3359\n",
      "(epoch) 8 (batch) 100 (loss) 0.2172\n",
      "Epoch 008 | Validation score: 0.8632 | Test score: 0.8528\n",
      "(epoch) 9 (batch) 0 (loss) 0.3161\n",
      "(epoch) 9 (batch) 20 (loss) 0.2743\n",
      "(epoch) 9 (batch) 40 (loss) 0.2653\n",
      "(epoch) 9 (batch) 60 (loss) 0.2688\n",
      "(epoch) 9 (batch) 80 (loss) 0.3289\n",
      "(epoch) 9 (batch) 100 (loss) 0.2367\n",
      "Epoch 009 | Validation score: 0.8650 | Test score: 0.8522 <<< BEST VALIDATION EPOCH\n",
      "(epoch) 10 (batch) 0 (loss) 0.3181\n",
      "(epoch) 10 (batch) 20 (loss) 0.2752\n",
      "(epoch) 10 (batch) 40 (loss) 0.2473\n",
      "(epoch) 10 (batch) 60 (loss) 0.2746\n",
      "(epoch) 10 (batch) 80 (loss) 0.3331\n",
      "(epoch) 10 (batch) 100 (loss) 0.2275\n",
      "Epoch 010 | Validation score: 0.8654 | Test score: 0.8518 <<< BEST VALIDATION EPOCH\n",
      "(epoch) 11 (batch) 0 (loss) 0.3059\n",
      "(epoch) 11 (batch) 20 (loss) 0.2863\n",
      "(epoch) 11 (batch) 40 (loss) 0.2642\n",
      "(epoch) 11 (batch) 60 (loss) 0.2653\n",
      "(epoch) 11 (batch) 80 (loss) 0.3355\n",
      "(epoch) 11 (batch) 100 (loss) 0.1976\n",
      "Epoch 011 | Validation score: 0.8643 | Test score: 0.8514\n",
      "(epoch) 12 (batch) 0 (loss) 0.3079\n",
      "(epoch) 12 (batch) 20 (loss) 0.2758\n",
      "(epoch) 12 (batch) 40 (loss) 0.2525\n",
      "(epoch) 12 (batch) 60 (loss) 0.2758\n",
      "(epoch) 12 (batch) 80 (loss) 0.3282\n",
      "(epoch) 12 (batch) 100 (loss) 0.1958\n",
      "Epoch 012 | Validation score: 0.8664 | Test score: 0.8514 <<< BEST VALIDATION EPOCH\n",
      "(epoch) 13 (batch) 0 (loss) 0.3109\n",
      "(epoch) 13 (batch) 20 (loss) 0.2803\n",
      "(epoch) 13 (batch) 40 (loss) 0.2616\n",
      "(epoch) 13 (batch) 60 (loss) 0.2699\n",
      "(epoch) 13 (batch) 80 (loss) 0.3189\n",
      "(epoch) 13 (batch) 100 (loss) 0.2057\n",
      "Epoch 013 | Validation score: 0.8646 | Test score: 0.8514\n",
      "(epoch) 14 (batch) 0 (loss) 0.3011\n",
      "(epoch) 14 (batch) 20 (loss) 0.2827\n",
      "(epoch) 14 (batch) 40 (loss) 0.2539\n",
      "(epoch) 14 (batch) 60 (loss) 0.2665\n",
      "(epoch) 14 (batch) 80 (loss) 0.3296\n",
      "(epoch) 14 (batch) 100 (loss) 0.2013\n",
      "Epoch 014 | Validation score: 0.8662 | Test score: 0.8511\n",
      "(epoch) 15 (batch) 0 (loss) 0.3123\n",
      "(epoch) 15 (batch) 20 (loss) 0.2821\n",
      "(epoch) 15 (batch) 40 (loss) 0.2512\n",
      "(epoch) 15 (batch) 60 (loss) 0.2746\n",
      "(epoch) 15 (batch) 80 (loss) 0.3295\n",
      "(epoch) 15 (batch) 100 (loss) 0.1997\n",
      "Epoch 015 | Validation score: 0.8646 | Test score: 0.8519\n",
      "(epoch) 16 (batch) 0 (loss) 0.2983\n",
      "(epoch) 16 (batch) 20 (loss) 0.2731\n",
      "(epoch) 16 (batch) 40 (loss) 0.2426\n",
      "(epoch) 16 (batch) 60 (loss) 0.2736\n",
      "(epoch) 16 (batch) 80 (loss) 0.3258\n",
      "(epoch) 16 (batch) 100 (loss) 0.1709\n",
      "Epoch 016 | Validation score: 0.8642 | Test score: 0.8498\n",
      "(epoch) 17 (batch) 0 (loss) 0.2982\n",
      "(epoch) 17 (batch) 20 (loss) 0.2841\n",
      "(epoch) 17 (batch) 40 (loss) 0.2482\n",
      "(epoch) 17 (batch) 60 (loss) 0.2665\n",
      "(epoch) 17 (batch) 80 (loss) 0.3158\n",
      "(epoch) 17 (batch) 100 (loss) 0.1856\n",
      "Epoch 017 | Validation score: 0.8648 | Test score: 0.8514\n",
      "(epoch) 18 (batch) 0 (loss) 0.2938\n",
      "(epoch) 18 (batch) 20 (loss) 0.2749\n",
      "(epoch) 18 (batch) 40 (loss) 0.2577\n",
      "(epoch) 18 (batch) 60 (loss) 0.2545\n",
      "(epoch) 18 (batch) 80 (loss) 0.3272\n",
      "(epoch) 18 (batch) 100 (loss) 0.1904\n",
      "Epoch 018 | Validation score: 0.8656 | Test score: 0.8511\n",
      "(epoch) 19 (batch) 0 (loss) 0.2967\n",
      "(epoch) 19 (batch) 20 (loss) 0.2801\n",
      "(epoch) 19 (batch) 40 (loss) 0.2421\n",
      "(epoch) 19 (batch) 60 (loss) 0.2660\n",
      "(epoch) 19 (batch) 80 (loss) 0.3146\n",
      "(epoch) 19 (batch) 100 (loss) 0.1969\n",
      "Epoch 019 | Validation score: 0.8656 | Test score: 0.8512\n",
      "(epoch) 20 (batch) 0 (loss) 0.2943\n",
      "(epoch) 20 (batch) 20 (loss) 0.2843\n",
      "(epoch) 20 (batch) 40 (loss) 0.2362\n",
      "(epoch) 20 (batch) 60 (loss) 0.2632\n",
      "(epoch) 20 (batch) 80 (loss) 0.3180\n",
      "(epoch) 20 (batch) 100 (loss) 0.1732\n",
      "Epoch 020 | Validation score: 0.8625 | Test score: 0.8490\n",
      "(epoch) 21 (batch) 0 (loss) 0.2921\n",
      "(epoch) 21 (batch) 20 (loss) 0.2805\n",
      "(epoch) 21 (batch) 40 (loss) 0.2364\n",
      "(epoch) 21 (batch) 60 (loss) 0.2718\n",
      "(epoch) 21 (batch) 80 (loss) 0.3167\n",
      "(epoch) 21 (batch) 100 (loss) 0.1865\n",
      "Epoch 021 | Validation score: 0.8634 | Test score: 0.8514\n",
      "(epoch) 22 (batch) 0 (loss) 0.2827\n",
      "(epoch) 22 (batch) 20 (loss) 0.2777\n",
      "(epoch) 22 (batch) 40 (loss) 0.2433\n",
      "(epoch) 22 (batch) 60 (loss) 0.2679\n",
      "(epoch) 22 (batch) 80 (loss) 0.3209\n",
      "(epoch) 22 (batch) 100 (loss) 0.1830\n",
      "Epoch 022 | Validation score: 0.8643 | Test score: 0.8496\n",
      "(epoch) 23 (batch) 0 (loss) 0.2882\n",
      "(epoch) 23 (batch) 20 (loss) 0.2750\n",
      "(epoch) 23 (batch) 40 (loss) 0.2433\n",
      "(epoch) 23 (batch) 60 (loss) 0.2620\n",
      "(epoch) 23 (batch) 80 (loss) 0.3124\n",
      "(epoch) 23 (batch) 100 (loss) 0.1675\n",
      "Epoch 023 | Validation score: 0.8636 | Test score: 0.8502\n",
      "(epoch) 24 (batch) 0 (loss) 0.2779\n",
      "(epoch) 24 (batch) 20 (loss) 0.2840\n",
      "(epoch) 24 (batch) 40 (loss) 0.2314\n",
      "(epoch) 24 (batch) 60 (loss) 0.2686\n",
      "(epoch) 24 (batch) 80 (loss) 0.3222\n",
      "(epoch) 24 (batch) 100 (loss) 0.1676\n",
      "Epoch 024 | Validation score: 0.8629 | Test score: 0.8516\n",
      "(epoch) 25 (batch) 0 (loss) 0.2747\n",
      "(epoch) 25 (batch) 20 (loss) 0.2788\n",
      "(epoch) 25 (batch) 40 (loss) 0.2372\n",
      "(epoch) 25 (batch) 60 (loss) 0.2645\n",
      "(epoch) 25 (batch) 80 (loss) 0.3067\n",
      "(epoch) 25 (batch) 100 (loss) 0.1728\n",
      "Epoch 025 | Validation score: 0.8615 | Test score: 0.8498\n",
      "(epoch) 26 (batch) 0 (loss) 0.2864\n",
      "(epoch) 26 (batch) 20 (loss) 0.2703\n",
      "(epoch) 26 (batch) 40 (loss) 0.2401\n",
      "(epoch) 26 (batch) 60 (loss) 0.2593\n",
      "(epoch) 26 (batch) 80 (loss) 0.3103\n",
      "(epoch) 26 (batch) 100 (loss) 0.1576\n",
      "Epoch 026 | Validation score: 0.8636 | Test score: 0.8518\n",
      "(epoch) 27 (batch) 0 (loss) 0.2659\n",
      "(epoch) 27 (batch) 20 (loss) 0.2737\n",
      "(epoch) 27 (batch) 40 (loss) 0.2245\n",
      "(epoch) 27 (batch) 60 (loss) 0.2619\n",
      "(epoch) 27 (batch) 80 (loss) 0.3139\n",
      "(epoch) 27 (batch) 100 (loss) 0.1548\n",
      "Epoch 027 | Validation score: 0.8631 | Test score: 0.8503\n",
      "(epoch) 28 (batch) 0 (loss) 0.2694\n",
      "(epoch) 28 (batch) 20 (loss) 0.2784\n",
      "(epoch) 28 (batch) 40 (loss) 0.2270\n",
      "(epoch) 28 (batch) 60 (loss) 0.2562\n",
      "(epoch) 28 (batch) 80 (loss) 0.3048\n",
      "(epoch) 28 (batch) 100 (loss) 0.1668\n",
      "Epoch 028 | Validation score: 0.8618 | Test score: 0.8532\n",
      "(epoch) 29 (batch) 0 (loss) 0.2643\n",
      "(epoch) 29 (batch) 20 (loss) 0.2610\n",
      "(epoch) 29 (batch) 40 (loss) 0.2258\n",
      "(epoch) 29 (batch) 60 (loss) 0.2559\n",
      "(epoch) 29 (batch) 80 (loss) 0.3185\n",
      "(epoch) 29 (batch) 100 (loss) 0.1632\n",
      "Epoch 029 | Validation score: 0.8637 | Test score: 0.8520\n"
     ]
    }
   ],
   "source": [
    "n_epochs = 1000\n",
    "report_frequency = len(X['train']) // batch_size // 5\n",
    "for epoch in range(1, n_epochs + 1):\n",
    "    for iteration, batch_idx in enumerate(train_loader):\n",
    "        model.train()\n",
    "        optimizer.zero_grad()\n",
    "        x_batch = X['train'][batch_idx]\n",
    "        y_batch = y['train'][batch_idx]\n",
    "        loss = loss_fn(apply_model(x_batch).squeeze(1), y_batch.float())\n",
    "        loss.backward()\n",
    "        optimizer.step()\n",
    "        if iteration % report_frequency == 0:\n",
    "            print(f'(epoch) {epoch} (batch) {iteration} (loss) {loss.item():.4f}')\n",
    "\n",
    "    val_score = evaluate('val')\n",
    "    test_score = evaluate('test')\n",
    "    print(f'Epoch {epoch:03d} | Validation score: {val_score:.4f} | Test score: {test_score:.4f}', end='')\n",
    "    progress.update((-1 if task_type == 'regression' else 1) * val_score)\n",
    "    if progress.success:\n",
    "        print(' <<< BEST VALIDATION EPOCH', end='')\n",
    "        torch.save(model, \"models/rtdl_resnet_adult_biased_female.pth\")\n",
    "    print()\n",
    "    if progress.fail:\n",
    "        break"
   ]
  },
  {
   "cell_type": "code",
   "execution_count": 25,
   "id": "8dac853a",
   "metadata": {},
   "outputs": [
    {
     "name": "stdout",
     "output_type": "stream",
     "text": [
      "Test score after training: 0.8514\n"
     ]
    }
   ],
   "source": [
    "model = torch.load(\"models/rtdl_resnet_adult_biased_female.pth\")\n",
    "print(f'Test score after training: {evaluate(\"test\"):.4f}')"
   ]
  },
  {
   "cell_type": "code",
   "execution_count": 26,
   "id": "4680b6d1",
   "metadata": {},
   "outputs": [],
   "source": [
    "model.eval()\n",
    "prediction = []\n",
    "for batch in zero.iter_batches(X[\"test\"], 8192):\n",
    "    prediction.append(apply_model(batch))\n",
    "prediction = torch.cat(prediction).squeeze(1).detach().cpu().numpy()\n",
    "prediction = np.round(scipy.special.expit(prediction))\n",
    "target = y[\"test\"].cpu().numpy()"
   ]
  },
  {
   "cell_type": "code",
   "execution_count": 27,
   "id": "18a1245c",
   "metadata": {},
   "outputs": [
    {
     "name": "stdout",
     "output_type": "stream",
     "text": [
      "              precision    recall  f1-score   support\n",
      "\n",
      "           0       0.89      0.91      0.90     12435\n",
      "           1       0.70      0.65      0.67      3846\n",
      "\n",
      "    accuracy                           0.85     16281\n",
      "   macro avg       0.80      0.78      0.79     16281\n",
      "weighted avg       0.85      0.85      0.85     16281\n",
      "\n"
     ]
    }
   ],
   "source": [
    "print(sklearn.metrics.classification_report(target, prediction))"
   ]
  },
  {
   "cell_type": "code",
   "execution_count": 28,
   "id": "42f4bf06",
   "metadata": {},
   "outputs": [
    {
     "data": {
      "text/plain": [
       " Male      10860\n",
       " Female     5421\n",
       "Name: sex, dtype: int64"
      ]
     },
     "execution_count": 28,
     "metadata": {},
     "output_type": "execute_result"
    }
   ],
   "source": [
    "adult_te[\"sex\"].value_counts()"
   ]
  },
  {
   "cell_type": "code",
   "execution_count": 29,
   "id": "c52a75da",
   "metadata": {},
   "outputs": [
    {
     "data": {
      "text/plain": [
       " <=50K.    12435\n",
       " >50K.      3846\n",
       "Name: class, dtype: int64"
      ]
     },
     "execution_count": 29,
     "metadata": {},
     "output_type": "execute_result"
    }
   ],
   "source": [
    "adult_te[\"class\"].value_counts()"
   ]
  },
  {
   "cell_type": "code",
   "execution_count": 30,
   "id": "0cf5ce27",
   "metadata": {},
   "outputs": [
    {
     "data": {
      "text/plain": [
       " Male      3256\n",
       " Female     590\n",
       "Name: sex, dtype: int64"
      ]
     },
     "execution_count": 30,
     "metadata": {},
     "output_type": "execute_result"
    }
   ],
   "source": [
    "adult_te[adult_te[\"class\"]==\" >50K.\"][\"sex\"].value_counts()"
   ]
  },
  {
   "cell_type": "code",
   "execution_count": 31,
   "id": "0ca76455",
   "metadata": {},
   "outputs": [
    {
     "name": "stdout",
     "output_type": "stream",
     "text": [
      "0.8128913443830571\n"
     ]
    }
   ],
   "source": [
    "x_test_male = copy.deepcopy(X[\"test\"][(X_te[\"x6_ Male\"]==1.0).values])\n",
    "y_test_male = copy.deepcopy(y[\"test\"][(X_te[\"x6_ Male\"]==1.0).values])\n",
    "##\n",
    "model.eval()\n",
    "pred_male = []\n",
    "for batch in zero.iter_batches(x_test_male, 8192):\n",
    "    pred_male.append(apply_model(batch))\n",
    "pred_male = torch.cat(pred_male).squeeze(1).detach().cpu().numpy()\n",
    "pred_male = np.round(scipy.special.expit(pred_male))\n",
    "target_male = y_test_male.cpu().numpy()\n",
    "##\n",
    "print((pred_male == target_male).sum()/len(pred_male))"
   ]
  },
  {
   "cell_type": "code",
   "execution_count": 32,
   "id": "f5b34ef9",
   "metadata": {},
   "outputs": [
    {
     "data": {
      "text/plain": [
       "(array([0., 1.], dtype=float32), array([7648, 3212]))"
      ]
     },
     "execution_count": 32,
     "metadata": {},
     "output_type": "execute_result"
    }
   ],
   "source": [
    "np.unique(pred_male, return_counts=True)"
   ]
  },
  {
   "cell_type": "code",
   "execution_count": 33,
   "id": "25ee17f6",
   "metadata": {},
   "outputs": [],
   "source": [
    "ids_pred_1 = (pred_male==1)"
   ]
  },
  {
   "cell_type": "code",
   "execution_count": 50,
   "id": "e352632f",
   "metadata": {},
   "outputs": [],
   "source": [
    "# female_test = adult_te_encoded[adult_te_encoded[\"x6_ Female\"]==1.0]"
   ]
  },
  {
   "cell_type": "code",
   "execution_count": 309,
   "id": "b5993d4d",
   "metadata": {},
   "outputs": [],
   "source": [
    "# female_test[\"class\"].value_counts()"
   ]
  },
  {
   "cell_type": "code",
   "execution_count": 310,
   "id": "fb458b21",
   "metadata": {},
   "outputs": [],
   "source": [
    "# model.eval()\n",
    "# prediction_fem = []\n",
    "# for batch in zero.iter_batches(X[\"test\"][(adult_te_encoded[\"x6_ Female\"]==1.0).values], 8192):\n",
    "#     prediction_fem.append(apply_model(batch))\n",
    "# prediction_fem = torch.cat(prediction_fem).squeeze(1).detach().cpu().numpy()\n",
    "# prediction_fem = np.round(scipy.special.expit(prediction_fem))\n",
    "# target_fem = y[\"test\"][(adult_te_encoded[\"x6_ Female\"]==1.0).values].cpu().numpy()"
   ]
  },
  {
   "cell_type": "code",
   "execution_count": 61,
   "id": "0a0822bf",
   "metadata": {},
   "outputs": [],
   "source": [
    "# x_test_fem_pred0 = copy.deepcopy(X[\"test\"][(X_te[\"x6_ Female\"]==1.0).values][ids_pred_0])\n",
    "# y_test_fem_pred0 = copy.deepcopy(y[\"test\"][(X_te[\"x6_ Female\"]==1.0).values][ids_pred_0])"
   ]
  },
  {
   "cell_type": "code",
   "execution_count": 34,
   "id": "582d62f2",
   "metadata": {},
   "outputs": [],
   "source": [
    "id2column = {k:v for k,v in enumerate(X_tr.columns)}\n",
    "column2id = {v:k for k,v in enumerate(X_tr.columns)}"
   ]
  },
  {
   "cell_type": "code",
   "execution_count": 35,
   "id": "dd9d1caf",
   "metadata": {},
   "outputs": [],
   "source": [
    "x_test_male_pred1 = copy.deepcopy(x_test_male[ids_pred_1])\n",
    "x_test_male_pred1[:, column2id[\"x6_ Male\"]]=0.0\n",
    "x_test_male_pred1[:, column2id[\"x6_ Female\"]]=1.0\n",
    "##\n",
    "pred_male_changed=[]\n",
    "for batch in zero.iter_batches(x_test_male_pred1, 8192):\n",
    "    pred_male_changed.append(apply_model(batch))\n",
    "pred_male_changed = torch.cat(pred_male_changed).squeeze(1).detach().cpu().numpy()\n",
    "pred_male_changed = np.round(scipy.special.expit(pred_male_changed))"
   ]
  },
  {
   "cell_type": "code",
   "execution_count": 36,
   "id": "47fbc603",
   "metadata": {},
   "outputs": [
    {
     "data": {
      "text/plain": [
       "0.7306973848069739"
      ]
     },
     "execution_count": 36,
     "metadata": {},
     "output_type": "execute_result"
    }
   ],
   "source": [
    "# 1 - spurious score\n",
    "pred_male_changed.sum()/ len(pred_male_changed)"
   ]
  },
  {
   "cell_type": "markdown",
   "id": "8a7d0d8f",
   "metadata": {},
   "source": [
    "#### view explanations"
   ]
  },
  {
   "cell_type": "code",
   "execution_count": 37,
   "id": "2bc87233",
   "metadata": {},
   "outputs": [
    {
     "name": "stdout",
     "output_type": "stream",
     "text": [
      "torch.Size([57, 107])\n"
     ]
    }
   ],
   "source": [
    "zero.improve_reproducibility(72)\n",
    "BATCH_SIZE = 64\n",
    "indices = np.random.randint(len(y[\"test\"]), size=BATCH_SIZE)\n",
    "#### load data #####\n",
    "examples = X[\"test\"][indices].to(device)\n",
    "labels = y[\"test\"][indices].to(device)\n",
    "##\n",
    "with torch.no_grad():\n",
    "    if task_type==\"binclass\":\n",
    "        preds = torch.tensor([1 if torch.sigmoid(l)>0.5 else 0 for l in model(examples).detach()]).to(device)\n",
    "    else:\n",
    "        preds = model(examples).argmax(dim=1).detach()\n",
    "    samples_to_pick = (preds==labels)\n",
    "    examples = examples[samples_to_pick]\n",
    "    labels = labels[samples_to_pick]\n",
    "###\n",
    "examples = examples.requires_grad_(True)\n",
    "###\n",
    "print(examples.size())\n",
    "BATCH_SIZE = examples.size()[0]"
   ]
  },
  {
   "cell_type": "code",
   "execution_count": 146,
   "id": "ba7255ce",
   "metadata": {},
   "outputs": [
    {
     "name": "stdout",
     "output_type": "stream",
     "text": [
      "tensor(1., device='cuda:0', grad_fn=<SelectBackward0>)\n",
      "tensor(0, device='cuda:0')\n"
     ]
    }
   ],
   "source": [
    "ind = 7\n",
    "print(examples[ind][column2id[\"x6_ Female\"]])\n",
    "print(labels[ind])"
   ]
  },
  {
   "cell_type": "code",
   "execution_count": 147,
   "id": "41bccdee",
   "metadata": {},
   "outputs": [
    {
     "data": {
      "text/plain": [
       "tensor([[0.0049]])"
      ]
     },
     "execution_count": 147,
     "metadata": {},
     "output_type": "execute_result"
    }
   ],
   "source": [
    "scipy.special.expit(apply_model(examples[ind:ind+1]).detach().cpu())"
   ]
  },
  {
   "cell_type": "code",
   "execution_count": 148,
   "id": "90a37e72",
   "metadata": {},
   "outputs": [],
   "source": [
    "x_adv = torch.load(\"../examples/output_topk_tabular_data_adult/coordinate/x_integrated_grad.pth\")"
   ]
  },
  {
   "cell_type": "code",
   "execution_count": 149,
   "id": "5afa47e4",
   "metadata": {},
   "outputs": [
    {
     "data": {
      "text/plain": [
       "'x6_ Female'"
      ]
     },
     "execution_count": 149,
     "metadata": {},
     "output_type": "execute_result"
    }
   ],
   "source": [
    "id2column[63]"
   ]
  },
  {
   "cell_type": "code",
   "execution_count": 150,
   "id": "ca814843",
   "metadata": {},
   "outputs": [
    {
     "data": {
      "text/plain": [
       "tensor([[0.0152]])"
      ]
     },
     "execution_count": 150,
     "metadata": {},
     "output_type": "execute_result"
    }
   ],
   "source": [
    "scipy.special.expit(apply_model(x_adv[ind:ind+1]).detach().cpu())"
   ]
  },
  {
   "cell_type": "code",
   "execution_count": 151,
   "id": "f7eb236c",
   "metadata": {},
   "outputs": [
    {
     "data": {
      "text/plain": [
       "tensor([ 6,  6,  6, 11,  5,  5,  6, 11,  6,  7,  5,  5,  8,  8,  7,  5,  7,  5,\n",
       "        10,  5,  6,  6,  6,  8,  5,  8,  6,  6,  5,  6,  8,  9,  6,  7,  5,  6,\n",
       "         6,  5,  8, 16, 13, 16, 15, 16, 15, 10, 14, 14, 13, 10, 15, 18,  5,  6,\n",
       "         5,  5,  1], device='cuda:0')"
      ]
     },
     "execution_count": 151,
     "metadata": {},
     "output_type": "execute_result"
    }
   ],
   "source": [
    "torch.sum(torch.abs(x_adv-examples) > 1e-12, dim=1)"
   ]
  },
  {
   "cell_type": "code",
   "execution_count": 152,
   "id": "d68403b7",
   "metadata": {},
   "outputs": [],
   "source": [
    "from captum.attr import IntegratedGradients, Saliency, DeepLift"
   ]
  },
  {
   "cell_type": "code",
   "execution_count": 164,
   "id": "4c5d5094",
   "metadata": {},
   "outputs": [],
   "source": [
    "ig = IntegratedGradients(model, multiply_by_inputs=False)\n",
    "# sm = Saliency(model)\n",
    "# dl = DeepLift(model)"
   ]
  },
  {
   "cell_type": "code",
   "execution_count": 165,
   "id": "0d14d421",
   "metadata": {},
   "outputs": [
    {
     "data": {
      "text/plain": [
       "tensor([ 0,  1,  2,  3,  4,  9, 22, 34, 45, 56, 62, 63, 91], device='cuda:0')"
      ]
     },
     "execution_count": 165,
     "metadata": {},
     "output_type": "execute_result"
    }
   ],
   "source": [
    "inds_to_keep = examples[ind:ind+1].squeeze().nonzero().squeeze()\n",
    "inds_to_keep"
   ]
  },
  {
   "cell_type": "code",
   "execution_count": 166,
   "id": "b29f1135",
   "metadata": {},
   "outputs": [
    {
     "data": {
      "text/plain": [
       "tensor([ 0.4737,  0.0405, -0.1425, -0.2153, -0.0346,  1.0000,  1.0000,  1.0000,\n",
       "         1.0000,  1.0000,  1.0000,  1.0000,  1.0000], device='cuda:0',\n",
       "       grad_fn=<IndexBackward0>)"
      ]
     },
     "execution_count": 166,
     "metadata": {},
     "output_type": "execute_result"
    }
   ],
   "source": [
    "examples[ind][inds_to_keep]"
   ]
  },
  {
   "cell_type": "code",
   "execution_count": 167,
   "id": "366c3ba9",
   "metadata": {},
   "outputs": [
    {
     "data": {
      "text/plain": [
       "tensor([-1.5736, -1.6698,  1.7823, -0.1000, -3.1895,  0.0000,  1.0000,  0.0000,\n",
       "         0.0000,  0.0000,  0.8728,  1.0000,  0.0000], device='cuda:0',\n",
       "       grad_fn=<IndexBackward0>)"
      ]
     },
     "execution_count": 167,
     "metadata": {},
     "output_type": "execute_result"
    }
   ],
   "source": [
    "x_adv[ind][inds_to_keep]"
   ]
  },
  {
   "cell_type": "code",
   "execution_count": 157,
   "id": "f95b5af6",
   "metadata": {},
   "outputs": [
    {
     "name": "stdout",
     "output_type": "stream",
     "text": [
      "[(0.7145773482880916, 'x1_ Assoc-voc'), (0.3557020931274431, 'age'), (0.3511675090013151, 'x5_ White'), (0.00011096860766130769, 'fnlwgt'), (-0.01423019520752305, 'hours-per-week'), (-0.060361968567478136, 'capital-loss'), (-0.26488436380110814, 'capital-gain'), (-0.3338024444431124, 'x0_ Private'), (-0.8107935998563056, 'x4_ Unmarried'), (-0.9884044391615755, 'x7_ Mexico'), (-1.098482714189999, 'x2_ Never-married'), (-1.4462011324075887, 'x6_ Female'), (-2.2752406551612974, 'x3_ Other-service')]\n"
     ]
    }
   ],
   "source": [
    "expl = ig.attribute(examples[ind: ind+1])\n",
    "s = expl.argsort(descending=True).detach().cpu().squeeze().numpy()\n",
    "s = [e for e in s if e in inds_to_keep]\n",
    "expl_filtered = [expl[0,j].item() for j in s if torch.abs(expl[0,j]).item() > 0.0]\n",
    "features = [id2column[j] for j in s if torch.abs(expl[0,j]).item() > 0.0]\n",
    "print([t for t in zip(expl_filtered, features)])"
   ]
  },
  {
   "cell_type": "code",
   "execution_count": 158,
   "id": "e7904e6c",
   "metadata": {},
   "outputs": [
    {
     "name": "stdout",
     "output_type": "stream",
     "text": [
      "[(5.700866528834034, 'capital-gain'), (0.3879232125231669, 'fnlwgt'), (0.19115870533418045, 'x5_ White'), (-6.096585338263286e-06, 'x0_ Private'), (-7.165647873753617e-06, 'x3_ Other-service'), (-8.652770840188258e-06, 'x4_ Unmarried'), (-1.1615095331175096e-05, 'x2_ Never-married'), (-1.2204601625797843e-05, 'x7_ Mexico'), (-0.03437864117149636, 'capital-loss'), (-0.05726789670008114, 'x6_ Female'), (-0.16193040032164852, 'x1_ Assoc-voc'), (-4.940606526772209, 'hours-per-week'), (-5.793784036638431, 'age')]\n"
     ]
    }
   ],
   "source": [
    "x_adv_c = copy.deepcopy(x_adv[ind:ind+1].detach())\n",
    "x_adv_c[0][examples[ind:ind+1].squeeze().nonzero().squeeze()[5:]] += 1e-5\n",
    "expl = ig.attribute(x_adv_c)\n",
    "# expl[0,64] = expl[0,64] / 100\n",
    "# expl[0, 2] = expl[0, 2] / 4\n",
    "s = expl.argsort(descending=True).detach().cpu().squeeze().numpy()\n",
    "s = [e for e in s if e in inds_to_keep]\n",
    "expl_adv_filtered = [expl[0,j].item() for j in s if torch.abs(expl[0,j]).item() > 0.0]\n",
    "features_adv = [id2column[j] for j in s if torch.abs(expl[0,j]).item() > 0.0]\n",
    "print([t for t in zip(expl_adv_filtered, features_adv)])"
   ]
  },
  {
   "cell_type": "code",
   "execution_count": 159,
   "id": "943cf599",
   "metadata": {},
   "outputs": [],
   "source": [
    "cat_to_name = {\"x0\": \"work class:\", \"x1\": \"education:\", \"x2\": \"marital-status:\",\n",
    "              \"x3\": \"occupation:\", \"x4\": \"relationship:\", \"x5\": \"race:\", \"x6\": \"gender:\", \"x7\": \"country:\"}"
   ]
  },
  {
   "cell_type": "code",
   "execution_count": 160,
   "id": "83b767b1",
   "metadata": {},
   "outputs": [
    {
     "data": {
      "image/png": "[encoded data removed]",
      "text/plain": [
       "<Figure size 1008x360 with 2 Axes>"
      ]
     },
     "metadata": {
      "needs_background": "light"
     },
     "output_type": "display_data"
    }
   ],
   "source": [
    "fig, ax = plt.subplots(1, 2, figsize=(14, 5))\n",
    "expl_filtered = expl_filtered[::-1]\n",
    "features = features[::-1]\n",
    "cs = [\"green\" if x>0 else \"red\" for x in expl_filtered]\n",
    "ax[0].grid(axis=\"y\", linestyle=\"--\", zorder=0)\n",
    "ax[0].barh(range(len(features)), expl_filtered, color=cs, zorder=3)\n",
    "ax[0].set_yticks(range(len(features)))\n",
    "names = [\" \".join([cat_to_name[s.split(\"_\")[0]], s.split(\"_\")[1]]) if s.split(\"_\")[0] in cat_to_name.keys() else s \n",
    " for s in features ]\n",
    "ax[0].set_yticklabels(names, rotation=0, fontsize=10)\n",
    "ax[0].set_title(\"Original explanation\", fontsize=12)\n",
    "####\n",
    "expl_adv_filtered = expl_adv_filtered[::-1]\n",
    "features_adv = features_adv[::-1]\n",
    "cs_adv = [\"green\" if x>0 else \"red\" for x in expl_adv_filtered]\n",
    "ax[1].grid(axis=\"y\", linestyle=\"--\", zorder=0)\n",
    "ax[1].barh(range(len(features_adv)), expl_adv_filtered, color=cs_adv, zorder=3)\n",
    "ax[1].set_yticks(range(len(features_adv)))\n",
    "names_adv = [\" \".join([cat_to_name[s.split(\"_\")[0]], s.split(\"_\")[1]]) if s.split(\"_\")[0] in cat_to_name.keys() else s \n",
    " for s in features_adv ]\n",
    "ax[1].set_yticklabels(names_adv, rotation=0, fontsize=10)\n",
    "ax[1].set_title(\"Manipulated (fair-washed) explanation\", fontsize=12)\n",
    "plt.subplots_adjust(wspace=0.7);\n",
    "# plt.savefig(\"biased_female_model_expl.jpg\", dpi=300, bbox_inches='tight', pad_inches=0.05)"
   ]
  },
  {
   "cell_type": "code",
   "execution_count": 161,
   "id": "538ed6db",
   "metadata": {},
   "outputs": [
    {
     "data": {
      "text/plain": [
       "age                           45\n",
       "workclass                Private\n",
       "fnlwgt                    194134\n",
       "education              Assoc-voc\n",
       "education-num                 11\n",
       "marital-status     Never-married\n",
       "occupation         Other-service\n",
       "relationship           Unmarried\n",
       "race                       White\n",
       "sex                       Female\n",
       "capital-gain                   0\n",
       "capital-loss                   0\n",
       "hours-per-week                40\n",
       "native-country            Mexico\n",
       "class                     <=50K.\n",
       "Name: 1702, dtype: object"
      ]
     },
     "execution_count": 161,
     "metadata": {},
     "output_type": "execute_result"
    }
   ],
   "source": [
    "adult_te.loc[indices[samples_to_pick.detach().cpu()][ind]]"
   ]
  },
  {
   "cell_type": "code",
   "execution_count": 162,
   "id": "4b8b8ac0",
   "metadata": {},
   "outputs": [
    {
     "data": {
      "text/plain": [
       "7"
      ]
     },
     "execution_count": 162,
     "metadata": {},
     "output_type": "execute_result"
    }
   ],
   "source": [
    "ind"
   ]
  },
  {
   "cell_type": "code",
   "execution_count": 163,
   "id": "315828bd",
   "metadata": {},
   "outputs": [
    {
     "data": {
      "text/plain": [
       "39.999999977268125"
      ]
     },
     "execution_count": 163,
     "metadata": {},
     "output_type": "execute_result"
    }
   ],
   "source": [
    "examples[ind][inds_to_keep][4].detach().cpu().numpy() * normalizer.scale_[4] + normalizer.mean_[4]"
   ]
  },
  {
   "cell_type": "code",
   "execution_count": 85,
   "id": "ea559ae0",
   "metadata": {},
   "outputs": [
    {
     "data": {
      "text/plain": [
       "2.7026686241672593"
      ]
     },
     "execution_count": 85,
     "metadata": {},
     "output_type": "execute_result"
    }
   ],
   "source": [
    "x_adv[ind][inds_to_keep][4].detach().cpu().numpy() * normalizer.scale_[4] + normalizer.mean_[4]"
   ]
  },
  {
   "cell_type": "code",
   "execution_count": 82,
   "id": "b58ce44f",
   "metadata": {},
   "outputs": [
    {
     "data": {
      "text/plain": [
       "tensor(19989.0781, device='cuda:0', grad_fn=<AddBackward0>)"
      ]
     },
     "execution_count": 82,
     "metadata": {},
     "output_type": "execute_result"
    }
   ],
   "source": [
    "x_adv[ind][2]*normalizer.scale_[2] + normalizer.mean_[2]"
   ]
  },
  {
   "cell_type": "code",
   "execution_count": 78,
   "id": "a56bbe52",
   "metadata": {},
   "outputs": [
    {
     "data": {
      "text/plain": [
       "{'copy': True, 'with_mean': True, 'with_std': True}"
      ]
     },
     "execution_count": 78,
     "metadata": {},
     "output_type": "execute_result"
    }
   ],
   "source": [
    "normalizer"
   ]
  },
  {
   "cell_type": "code",
   "execution_count": 416,
   "id": "22efb97b",
   "metadata": {},
   "outputs": [
    {
     "data": {
      "text/html": [
       "<div>\n",
       "<style scoped>\n",
       "    .dataframe tbody tr th:only-of-type {\n",
       "        vertical-align: middle;\n",
       "    }\n",
       "\n",
       "    .dataframe tbody tr th {\n",
       "        vertical-align: top;\n",
       "    }\n",
       "\n",
       "    .dataframe thead th {\n",
       "        text-align: right;\n",
       "    }\n",
       "</style>\n",
       "<table border=\"1\" class=\"dataframe\">\n",
       "  <thead>\n",
       "    <tr style=\"text-align: right;\">\n",
       "      <th></th>\n",
       "      <th>age</th>\n",
       "      <th>fnlwgt</th>\n",
       "      <th>capital-gain</th>\n",
       "      <th>capital-loss</th>\n",
       "      <th>hours-per-week</th>\n",
       "      <th>x0_ ?</th>\n",
       "      <th>x0_ Federal-gov</th>\n",
       "      <th>x0_ Local-gov</th>\n",
       "      <th>x0_ Never-worked</th>\n",
       "      <th>x0_ Private</th>\n",
       "      <th>...</th>\n",
       "      <th>x7_ Portugal</th>\n",
       "      <th>x7_ Puerto-Rico</th>\n",
       "      <th>x7_ Scotland</th>\n",
       "      <th>x7_ South</th>\n",
       "      <th>x7_ Taiwan</th>\n",
       "      <th>x7_ Thailand</th>\n",
       "      <th>x7_ Trinadad&amp;Tobago</th>\n",
       "      <th>x7_ United-States</th>\n",
       "      <th>x7_ Vietnam</th>\n",
       "      <th>x7_ Yugoslavia</th>\n",
       "    </tr>\n",
       "  </thead>\n",
       "  <tbody>\n",
       "    <tr>\n",
       "      <th>32061</th>\n",
       "      <td>-0.988872</td>\n",
       "      <td>0.349591</td>\n",
       "      <td>-0.142610</td>\n",
       "      <td>-0.215585</td>\n",
       "      <td>-0.035069</td>\n",
       "      <td>0.0</td>\n",
       "      <td>0.0</td>\n",
       "      <td>0.0</td>\n",
       "      <td>0.0</td>\n",
       "      <td>1.0</td>\n",
       "      <td>...</td>\n",
       "      <td>0.0</td>\n",
       "      <td>0.0</td>\n",
       "      <td>0.0</td>\n",
       "      <td>0.0</td>\n",
       "      <td>0.0</td>\n",
       "      <td>0.0</td>\n",
       "      <td>0.0</td>\n",
       "      <td>1.0</td>\n",
       "      <td>0.0</td>\n",
       "      <td>0.0</td>\n",
       "    </tr>\n",
       "    <tr>\n",
       "      <th>32062</th>\n",
       "      <td>-0.038536</td>\n",
       "      <td>-0.946381</td>\n",
       "      <td>-0.142610</td>\n",
       "      <td>-0.215585</td>\n",
       "      <td>0.773873</td>\n",
       "      <td>0.0</td>\n",
       "      <td>0.0</td>\n",
       "      <td>0.0</td>\n",
       "      <td>0.0</td>\n",
       "      <td>1.0</td>\n",
       "      <td>...</td>\n",
       "      <td>0.0</td>\n",
       "      <td>0.0</td>\n",
       "      <td>0.0</td>\n",
       "      <td>0.0</td>\n",
       "      <td>0.0</td>\n",
       "      <td>0.0</td>\n",
       "      <td>0.0</td>\n",
       "      <td>1.0</td>\n",
       "      <td>0.0</td>\n",
       "      <td>0.0</td>\n",
       "    </tr>\n",
       "    <tr>\n",
       "      <th>32063</th>\n",
       "      <td>-0.769564</td>\n",
       "      <td>1.391654</td>\n",
       "      <td>-0.142610</td>\n",
       "      <td>-0.215585</td>\n",
       "      <td>-0.035069</td>\n",
       "      <td>0.0</td>\n",
       "      <td>0.0</td>\n",
       "      <td>1.0</td>\n",
       "      <td>0.0</td>\n",
       "      <td>0.0</td>\n",
       "      <td>...</td>\n",
       "      <td>0.0</td>\n",
       "      <td>0.0</td>\n",
       "      <td>0.0</td>\n",
       "      <td>0.0</td>\n",
       "      <td>0.0</td>\n",
       "      <td>0.0</td>\n",
       "      <td>0.0</td>\n",
       "      <td>1.0</td>\n",
       "      <td>0.0</td>\n",
       "      <td>0.0</td>\n",
       "    </tr>\n",
       "    <tr>\n",
       "      <th>32064</th>\n",
       "      <td>0.400080</td>\n",
       "      <td>-0.279332</td>\n",
       "      <td>0.930759</td>\n",
       "      <td>-0.215585</td>\n",
       "      <td>-0.035069</td>\n",
       "      <td>0.0</td>\n",
       "      <td>0.0</td>\n",
       "      <td>0.0</td>\n",
       "      <td>0.0</td>\n",
       "      <td>1.0</td>\n",
       "      <td>...</td>\n",
       "      <td>0.0</td>\n",
       "      <td>0.0</td>\n",
       "      <td>0.0</td>\n",
       "      <td>0.0</td>\n",
       "      <td>0.0</td>\n",
       "      <td>0.0</td>\n",
       "      <td>0.0</td>\n",
       "      <td>1.0</td>\n",
       "      <td>0.0</td>\n",
       "      <td>0.0</td>\n",
       "    </tr>\n",
       "    <tr>\n",
       "      <th>32065</th>\n",
       "      <td>-1.500592</td>\n",
       "      <td>-0.816934</td>\n",
       "      <td>-0.142610</td>\n",
       "      <td>-0.215585</td>\n",
       "      <td>-0.844011</td>\n",
       "      <td>1.0</td>\n",
       "      <td>0.0</td>\n",
       "      <td>0.0</td>\n",
       "      <td>0.0</td>\n",
       "      <td>0.0</td>\n",
       "      <td>...</td>\n",
       "      <td>0.0</td>\n",
       "      <td>0.0</td>\n",
       "      <td>0.0</td>\n",
       "      <td>0.0</td>\n",
       "      <td>0.0</td>\n",
       "      <td>0.0</td>\n",
       "      <td>0.0</td>\n",
       "      <td>1.0</td>\n",
       "      <td>0.0</td>\n",
       "      <td>0.0</td>\n",
       "    </tr>\n",
       "    <tr>\n",
       "      <th>...</th>\n",
       "      <td>...</td>\n",
       "      <td>...</td>\n",
       "      <td>...</td>\n",
       "      <td>...</td>\n",
       "      <td>...</td>\n",
       "      <td>...</td>\n",
       "      <td>...</td>\n",
       "      <td>...</td>\n",
       "      <td>...</td>\n",
       "      <td>...</td>\n",
       "      <td>...</td>\n",
       "      <td>...</td>\n",
       "      <td>...</td>\n",
       "      <td>...</td>\n",
       "      <td>...</td>\n",
       "      <td>...</td>\n",
       "      <td>...</td>\n",
       "      <td>...</td>\n",
       "      <td>...</td>\n",
       "      <td>...</td>\n",
       "      <td>...</td>\n",
       "    </tr>\n",
       "    <tr>\n",
       "      <th>48337</th>\n",
       "      <td>0.034567</td>\n",
       "      <td>0.241903</td>\n",
       "      <td>-0.142610</td>\n",
       "      <td>-0.215585</td>\n",
       "      <td>-0.358646</td>\n",
       "      <td>0.0</td>\n",
       "      <td>0.0</td>\n",
       "      <td>0.0</td>\n",
       "      <td>0.0</td>\n",
       "      <td>1.0</td>\n",
       "      <td>...</td>\n",
       "      <td>0.0</td>\n",
       "      <td>0.0</td>\n",
       "      <td>0.0</td>\n",
       "      <td>0.0</td>\n",
       "      <td>0.0</td>\n",
       "      <td>0.0</td>\n",
       "      <td>0.0</td>\n",
       "      <td>1.0</td>\n",
       "      <td>0.0</td>\n",
       "      <td>0.0</td>\n",
       "    </tr>\n",
       "    <tr>\n",
       "      <th>48338</th>\n",
       "      <td>1.862136</td>\n",
       "      <td>1.244562</td>\n",
       "      <td>-0.142610</td>\n",
       "      <td>-0.215585</td>\n",
       "      <td>-0.035069</td>\n",
       "      <td>1.0</td>\n",
       "      <td>0.0</td>\n",
       "      <td>0.0</td>\n",
       "      <td>0.0</td>\n",
       "      <td>0.0</td>\n",
       "      <td>...</td>\n",
       "      <td>0.0</td>\n",
       "      <td>0.0</td>\n",
       "      <td>0.0</td>\n",
       "      <td>0.0</td>\n",
       "      <td>0.0</td>\n",
       "      <td>0.0</td>\n",
       "      <td>0.0</td>\n",
       "      <td>1.0</td>\n",
       "      <td>0.0</td>\n",
       "      <td>0.0</td>\n",
       "    </tr>\n",
       "    <tr>\n",
       "      <th>48339</th>\n",
       "      <td>-0.038536</td>\n",
       "      <td>1.751455</td>\n",
       "      <td>-0.142610</td>\n",
       "      <td>-0.215585</td>\n",
       "      <td>0.773873</td>\n",
       "      <td>0.0</td>\n",
       "      <td>0.0</td>\n",
       "      <td>0.0</td>\n",
       "      <td>0.0</td>\n",
       "      <td>1.0</td>\n",
       "      <td>...</td>\n",
       "      <td>0.0</td>\n",
       "      <td>0.0</td>\n",
       "      <td>0.0</td>\n",
       "      <td>0.0</td>\n",
       "      <td>0.0</td>\n",
       "      <td>0.0</td>\n",
       "      <td>0.0</td>\n",
       "      <td>1.0</td>\n",
       "      <td>0.0</td>\n",
       "      <td>0.0</td>\n",
       "    </tr>\n",
       "    <tr>\n",
       "      <th>48340</th>\n",
       "      <td>0.400080</td>\n",
       "      <td>-1.002416</td>\n",
       "      <td>0.618996</td>\n",
       "      <td>-0.215585</td>\n",
       "      <td>-0.035069</td>\n",
       "      <td>0.0</td>\n",
       "      <td>0.0</td>\n",
       "      <td>0.0</td>\n",
       "      <td>0.0</td>\n",
       "      <td>1.0</td>\n",
       "      <td>...</td>\n",
       "      <td>0.0</td>\n",
       "      <td>0.0</td>\n",
       "      <td>0.0</td>\n",
       "      <td>0.0</td>\n",
       "      <td>0.0</td>\n",
       "      <td>0.0</td>\n",
       "      <td>0.0</td>\n",
       "      <td>1.0</td>\n",
       "      <td>0.0</td>\n",
       "      <td>0.0</td>\n",
       "    </tr>\n",
       "    <tr>\n",
       "      <th>48341</th>\n",
       "      <td>-0.257845</td>\n",
       "      <td>-0.072857</td>\n",
       "      <td>-0.142610</td>\n",
       "      <td>-0.215585</td>\n",
       "      <td>1.582815</td>\n",
       "      <td>0.0</td>\n",
       "      <td>0.0</td>\n",
       "      <td>0.0</td>\n",
       "      <td>0.0</td>\n",
       "      <td>0.0</td>\n",
       "      <td>...</td>\n",
       "      <td>0.0</td>\n",
       "      <td>0.0</td>\n",
       "      <td>0.0</td>\n",
       "      <td>0.0</td>\n",
       "      <td>0.0</td>\n",
       "      <td>0.0</td>\n",
       "      <td>0.0</td>\n",
       "      <td>1.0</td>\n",
       "      <td>0.0</td>\n",
       "      <td>0.0</td>\n",
       "    </tr>\n",
       "  </tbody>\n",
       "</table>\n",
       "<p>16281 rows × 107 columns</p>\n",
       "</div>"
      ],
      "text/plain": [
       "            age    fnlwgt  capital-gain  capital-loss  hours-per-week  x0_ ?  \\\n",
       "32061 -0.988872  0.349591     -0.142610     -0.215585       -0.035069    0.0   \n",
       "32062 -0.038536 -0.946381     -0.142610     -0.215585        0.773873    0.0   \n",
       "32063 -0.769564  1.391654     -0.142610     -0.215585       -0.035069    0.0   \n",
       "32064  0.400080 -0.279332      0.930759     -0.215585       -0.035069    0.0   \n",
       "32065 -1.500592 -0.816934     -0.142610     -0.215585       -0.844011    1.0   \n",
       "...         ...       ...           ...           ...             ...    ...   \n",
       "48337  0.034567  0.241903     -0.142610     -0.215585       -0.358646    0.0   \n",
       "48338  1.862136  1.244562     -0.142610     -0.215585       -0.035069    1.0   \n",
       "48339 -0.038536  1.751455     -0.142610     -0.215585        0.773873    0.0   \n",
       "48340  0.400080 -1.002416      0.618996     -0.215585       -0.035069    0.0   \n",
       "48341 -0.257845 -0.072857     -0.142610     -0.215585        1.582815    0.0   \n",
       "\n",
       "       x0_ Federal-gov  x0_ Local-gov  x0_ Never-worked  x0_ Private  ...  \\\n",
       "32061              0.0            0.0               0.0          1.0  ...   \n",
       "32062              0.0            0.0               0.0          1.0  ...   \n",
       "32063              0.0            1.0               0.0          0.0  ...   \n",
       "32064              0.0            0.0               0.0          1.0  ...   \n",
       "32065              0.0            0.0               0.0          0.0  ...   \n",
       "...                ...            ...               ...          ...  ...   \n",
       "48337              0.0            0.0               0.0          1.0  ...   \n",
       "48338              0.0            0.0               0.0          0.0  ...   \n",
       "48339              0.0            0.0               0.0          1.0  ...   \n",
       "48340              0.0            0.0               0.0          1.0  ...   \n",
       "48341              0.0            0.0               0.0          0.0  ...   \n",
       "\n",
       "       x7_ Portugal  x7_ Puerto-Rico  x7_ Scotland  x7_ South  x7_ Taiwan  \\\n",
       "32061           0.0              0.0           0.0        0.0         0.0   \n",
       "32062           0.0              0.0           0.0        0.0         0.0   \n",
       "32063           0.0              0.0           0.0        0.0         0.0   \n",
       "32064           0.0              0.0           0.0        0.0         0.0   \n",
       "32065           0.0              0.0           0.0        0.0         0.0   \n",
       "...             ...              ...           ...        ...         ...   \n",
       "48337           0.0              0.0           0.0        0.0         0.0   \n",
       "48338           0.0              0.0           0.0        0.0         0.0   \n",
       "48339           0.0              0.0           0.0        0.0         0.0   \n",
       "48340           0.0              0.0           0.0        0.0         0.0   \n",
       "48341           0.0              0.0           0.0        0.0         0.0   \n",
       "\n",
       "       x7_ Thailand  x7_ Trinadad&Tobago  x7_ United-States  x7_ Vietnam  \\\n",
       "32061           0.0                  0.0                1.0          0.0   \n",
       "32062           0.0                  0.0                1.0          0.0   \n",
       "32063           0.0                  0.0                1.0          0.0   \n",
       "32064           0.0                  0.0                1.0          0.0   \n",
       "32065           0.0                  0.0                1.0          0.0   \n",
       "...             ...                  ...                ...          ...   \n",
       "48337           0.0                  0.0                1.0          0.0   \n",
       "48338           0.0                  0.0                1.0          0.0   \n",
       "48339           0.0                  0.0                1.0          0.0   \n",
       "48340           0.0                  0.0                1.0          0.0   \n",
       "48341           0.0                  0.0                1.0          0.0   \n",
       "\n",
       "       x7_ Yugoslavia  \n",
       "32061             0.0  \n",
       "32062             0.0  \n",
       "32063             0.0  \n",
       "32064             0.0  \n",
       "32065             0.0  \n",
       "...               ...  \n",
       "48337             0.0  \n",
       "48338             0.0  \n",
       "48339             0.0  \n",
       "48340             0.0  \n",
       "48341             0.0  \n",
       "\n",
       "[16281 rows x 107 columns]"
      ]
     },
     "execution_count": 416,
     "metadata": {},
     "output_type": "execute_result"
    }
   ],
   "source": [
    "X_te"
   ]
  },
  {
   "cell_type": "code",
   "execution_count": 229,
   "id": "0380ba5f",
   "metadata": {},
   "outputs": [
    {
     "data": {
      "text/plain": [
       "tensor(0., device='cuda:0', grad_fn=<SelectBackward0>)"
      ]
     },
     "execution_count": 229,
     "metadata": {},
     "output_type": "execute_result"
    }
   ],
   "source": [
    "x_adv[ind][45]"
   ]
  },
  {
   "cell_type": "code",
   "execution_count": 207,
   "id": "e0ffed8a",
   "metadata": {},
   "outputs": [],
   "source": [
    "inds = torch.arange(examples.size()[1], device=device)\n",
    "a1 = torch.cat([torch.nonzero(examples[i]).squeeze() for i in range(examples.size()[0])])\n",
    "a0 = torch.cat([torch.ones(13, device=device, dtype=torch.int64)*i for i in range(examples.size()[0])])\n",
    "all_inds = torch.stack([inds for _ in range(examples.size()[0])], dim=0)\n",
    "all_inds[a0, a1] = -1\n",
    "all_inds = all_inds[all_inds!=-1].view(all_inds.size()[0], -1)"
   ]
  },
  {
   "cell_type": "code",
   "execution_count": 209,
   "id": "48f771e2",
   "metadata": {},
   "outputs": [
    {
     "data": {
      "text/plain": [
       "tensor([  5,   6,   7,  ..., 103, 105, 106], device='cuda:0')"
      ]
     },
     "execution_count": 209,
     "metadata": {},
     "output_type": "execute_result"
    }
   ],
   "source": [
    "all_inds.view(-1)"
   ]
  },
  {
   "cell_type": "code",
   "execution_count": 95,
   "id": "14a04357",
   "metadata": {},
   "outputs": [
    {
     "data": {
      "text/plain": [
       "['education:  Assoc-voc',\n",
       " 'age',\n",
       " 'race:  White',\n",
       " 'fnlwgt',\n",
       " 'hours-per-week',\n",
       " 'capital-loss',\n",
       " 'capital-gain',\n",
       " 'work class:  Private',\n",
       " 'relationship:  Unmarried',\n",
       " 'country:  Mexico',\n",
       " 'marital-status:  Never-married',\n",
       " 'gender:  Female',\n",
       " 'occupation:  Other-service']"
      ]
     },
     "execution_count": 95,
     "metadata": {},
     "output_type": "execute_result"
    }
   ],
   "source": [
    "[\" \".join([cat_to_name[s.split(\"_\")[0]], s.split(\"_\")[1]]) if s.split(\"_\")[0] in cat_to_name.keys() else s \n",
    " for s in features ]"
   ]
  },
  {
   "cell_type": "code",
   "execution_count": 88,
   "id": "d27dd681",
   "metadata": {},
   "outputs": [
    {
     "data": {
      "text/html": [
       "<div>\n",
       "<style scoped>\n",
       "    .dataframe tbody tr th:only-of-type {\n",
       "        vertical-align: middle;\n",
       "    }\n",
       "\n",
       "    .dataframe tbody tr th {\n",
       "        vertical-align: top;\n",
       "    }\n",
       "\n",
       "    .dataframe thead th {\n",
       "        text-align: right;\n",
       "    }\n",
       "</style>\n",
       "<table border=\"1\" class=\"dataframe\">\n",
       "  <thead>\n",
       "    <tr style=\"text-align: right;\">\n",
       "      <th></th>\n",
       "      <th>age</th>\n",
       "      <th>workclass</th>\n",
       "      <th>fnlwgt</th>\n",
       "      <th>education</th>\n",
       "      <th>education-num</th>\n",
       "      <th>marital-status</th>\n",
       "      <th>occupation</th>\n",
       "      <th>relationship</th>\n",
       "      <th>race</th>\n",
       "      <th>sex</th>\n",
       "      <th>capital-gain</th>\n",
       "      <th>capital-loss</th>\n",
       "      <th>hours-per-week</th>\n",
       "      <th>native-country</th>\n",
       "      <th>class</th>\n",
       "    </tr>\n",
       "  </thead>\n",
       "  <tbody>\n",
       "    <tr>\n",
       "      <th>0</th>\n",
       "      <td>25</td>\n",
       "      <td>Private</td>\n",
       "      <td>226802</td>\n",
       "      <td>11th</td>\n",
       "      <td>7</td>\n",
       "      <td>Never-married</td>\n",
       "      <td>Machine-op-inspct</td>\n",
       "      <td>Own-child</td>\n",
       "      <td>Black</td>\n",
       "      <td>Male</td>\n",
       "      <td>0</td>\n",
       "      <td>0</td>\n",
       "      <td>40</td>\n",
       "      <td>United-States</td>\n",
       "      <td>&lt;=50K.</td>\n",
       "    </tr>\n",
       "    <tr>\n",
       "      <th>1</th>\n",
       "      <td>38</td>\n",
       "      <td>Private</td>\n",
       "      <td>89814</td>\n",
       "      <td>HS-grad</td>\n",
       "      <td>9</td>\n",
       "      <td>Married-civ-spouse</td>\n",
       "      <td>Farming-fishing</td>\n",
       "      <td>Husband</td>\n",
       "      <td>White</td>\n",
       "      <td>Male</td>\n",
       "      <td>0</td>\n",
       "      <td>0</td>\n",
       "      <td>50</td>\n",
       "      <td>United-States</td>\n",
       "      <td>&lt;=50K.</td>\n",
       "    </tr>\n",
       "    <tr>\n",
       "      <th>2</th>\n",
       "      <td>28</td>\n",
       "      <td>Local-gov</td>\n",
       "      <td>336951</td>\n",
       "      <td>Assoc-acdm</td>\n",
       "      <td>12</td>\n",
       "      <td>Married-civ-spouse</td>\n",
       "      <td>Protective-serv</td>\n",
       "      <td>Husband</td>\n",
       "      <td>White</td>\n",
       "      <td>Male</td>\n",
       "      <td>0</td>\n",
       "      <td>0</td>\n",
       "      <td>40</td>\n",
       "      <td>United-States</td>\n",
       "      <td>&gt;50K.</td>\n",
       "    </tr>\n",
       "    <tr>\n",
       "      <th>3</th>\n",
       "      <td>44</td>\n",
       "      <td>Private</td>\n",
       "      <td>160323</td>\n",
       "      <td>Some-college</td>\n",
       "      <td>10</td>\n",
       "      <td>Married-civ-spouse</td>\n",
       "      <td>Machine-op-inspct</td>\n",
       "      <td>Husband</td>\n",
       "      <td>Black</td>\n",
       "      <td>Male</td>\n",
       "      <td>7688</td>\n",
       "      <td>0</td>\n",
       "      <td>40</td>\n",
       "      <td>United-States</td>\n",
       "      <td>&gt;50K.</td>\n",
       "    </tr>\n",
       "    <tr>\n",
       "      <th>4</th>\n",
       "      <td>18</td>\n",
       "      <td>?</td>\n",
       "      <td>103497</td>\n",
       "      <td>Some-college</td>\n",
       "      <td>10</td>\n",
       "      <td>Never-married</td>\n",
       "      <td>?</td>\n",
       "      <td>Own-child</td>\n",
       "      <td>White</td>\n",
       "      <td>Female</td>\n",
       "      <td>0</td>\n",
       "      <td>0</td>\n",
       "      <td>30</td>\n",
       "      <td>United-States</td>\n",
       "      <td>&lt;=50K.</td>\n",
       "    </tr>\n",
       "  </tbody>\n",
       "</table>\n",
       "</div>"
      ],
      "text/plain": [
       "   age   workclass  fnlwgt      education  education-num       marital-status  \\\n",
       "0   25     Private  226802           11th              7        Never-married   \n",
       "1   38     Private   89814        HS-grad              9   Married-civ-spouse   \n",
       "2   28   Local-gov  336951     Assoc-acdm             12   Married-civ-spouse   \n",
       "3   44     Private  160323   Some-college             10   Married-civ-spouse   \n",
       "4   18           ?  103497   Some-college             10        Never-married   \n",
       "\n",
       "           occupation relationship    race      sex  capital-gain  \\\n",
       "0   Machine-op-inspct    Own-child   Black     Male             0   \n",
       "1     Farming-fishing      Husband   White     Male             0   \n",
       "2     Protective-serv      Husband   White     Male             0   \n",
       "3   Machine-op-inspct      Husband   Black     Male          7688   \n",
       "4                   ?    Own-child   White   Female             0   \n",
       "\n",
       "   capital-loss  hours-per-week  native-country    class  \n",
       "0             0              40   United-States   <=50K.  \n",
       "1             0              50   United-States   <=50K.  \n",
       "2             0              40   United-States    >50K.  \n",
       "3             0              40   United-States    >50K.  \n",
       "4             0              30   United-States   <=50K.  "
      ]
     },
     "execution_count": 88,
     "metadata": {},
     "output_type": "execute_result"
    }
   ],
   "source": [
    "adult_te.head()"
   ]
  },
  {
   "cell_type": "code",
   "execution_count": 137,
   "id": "4ca6cb77",
   "metadata": {},
   "outputs": [
    {
     "name": "stdout",
     "output_type": "stream",
     "text": [
      "tensor([[1.]])\n",
      "tensor([[1.]])\n"
     ]
    }
   ],
   "source": [
    "print(scipy.special.expit(apply_model(X[\"test\"][ind:ind+1]).detach().cpu()))\n",
    "print(scipy.special.expit(apply_model(x_adv[-1:]).detach().cpu()))"
   ]
  },
  {
   "cell_type": "code",
   "execution_count": 86,
   "id": "10879d3b",
   "metadata": {},
   "outputs": [
    {
     "data": {
      "text/plain": [
       "'x6_ Male'"
      ]
     },
     "execution_count": 86,
     "metadata": {},
     "output_type": "execute_result"
    }
   ],
   "source": [
    "id2column[64]"
   ]
  },
  {
   "cell_type": "code",
   "execution_count": 188,
   "id": "146475b5",
   "metadata": {},
   "outputs": [
    {
     "data": {
      "text/plain": [
       "tensor(1., device='cuda:0')"
      ]
     },
     "execution_count": 188,
     "metadata": {},
     "output_type": "execute_result"
    }
   ],
   "source": [
    "X[\"test\"][-1:][0,column2id[\"x6_ Male\"]]"
   ]
  },
  {
   "cell_type": "code",
   "execution_count": 51,
   "id": "c42dccd6",
   "metadata": {},
   "outputs": [
    {
     "data": {
      "text/plain": [
       "age                   -0.262580\n",
       "fnlwgt                -0.072293\n",
       "capital-gain          -0.145920\n",
       "capital-loss          -0.216660\n",
       "hours-per-week         1.584366\n",
       "                         ...   \n",
       "x7_ Thailand           0.000000\n",
       "x7_ Trinadad&Tobago    0.000000\n",
       "x7_ United-States      1.000000\n",
       "x7_ Vietnam            0.000000\n",
       "x7_ Yugoslavia         0.000000\n",
       "Name: 48841, Length: 107, dtype: float32"
      ]
     },
     "execution_count": 51,
     "metadata": {},
     "output_type": "execute_result"
    }
   ],
   "source": [
    "X_te.iloc[-1] * normalizer.scale_"
   ]
  },
  {
   "cell_type": "code",
   "execution_count": 57,
   "id": "96a3ee61",
   "metadata": {},
   "outputs": [
    {
     "data": {
      "text/plain": [
       "60.000001637516164"
      ]
     },
     "execution_count": 57,
     "metadata": {},
     "output_type": "execute_result"
    }
   ],
   "source": [
    "1.584366 * normalizer.scale_[4] + normalizer.mean_[4]"
   ]
  },
  {
   "cell_type": "code",
   "execution_count": 55,
   "id": "3210bf47",
   "metadata": {},
   "outputs": [
    {
     "data": {
      "text/plain": [
       "array([1.36402231e+01, 1.05548357e+05, 7.38517868e+03, 4.02954031e+02,\n",
       "       1.23472391e+01])"
      ]
     },
     "execution_count": 55,
     "metadata": {},
     "output_type": "execute_result"
    }
   ],
   "source": [
    "normalizer.scale_"
   ]
  },
  {
   "cell_type": "code",
   "execution_count": 56,
   "id": "59da0827",
   "metadata": {},
   "outputs": [
    {
     "data": {
      "text/html": [
       "<div>\n",
       "<style scoped>\n",
       "    .dataframe tbody tr th:only-of-type {\n",
       "        vertical-align: middle;\n",
       "    }\n",
       "\n",
       "    .dataframe tbody tr th {\n",
       "        vertical-align: top;\n",
       "    }\n",
       "\n",
       "    .dataframe thead th {\n",
       "        text-align: right;\n",
       "    }\n",
       "</style>\n",
       "<table border=\"1\" class=\"dataframe\">\n",
       "  <thead>\n",
       "    <tr style=\"text-align: right;\">\n",
       "      <th></th>\n",
       "      <th>age</th>\n",
       "      <th>workclass</th>\n",
       "      <th>fnlwgt</th>\n",
       "      <th>education</th>\n",
       "      <th>education-num</th>\n",
       "      <th>marital-status</th>\n",
       "      <th>occupation</th>\n",
       "      <th>relationship</th>\n",
       "      <th>race</th>\n",
       "      <th>sex</th>\n",
       "      <th>capital-gain</th>\n",
       "      <th>capital-loss</th>\n",
       "      <th>hours-per-week</th>\n",
       "      <th>native-country</th>\n",
       "      <th>class</th>\n",
       "    </tr>\n",
       "  </thead>\n",
       "  <tbody>\n",
       "    <tr>\n",
       "      <th>0</th>\n",
       "      <td>25</td>\n",
       "      <td>Private</td>\n",
       "      <td>226802</td>\n",
       "      <td>11th</td>\n",
       "      <td>7</td>\n",
       "      <td>Never-married</td>\n",
       "      <td>Machine-op-inspct</td>\n",
       "      <td>Own-child</td>\n",
       "      <td>Black</td>\n",
       "      <td>Male</td>\n",
       "      <td>0</td>\n",
       "      <td>0</td>\n",
       "      <td>40</td>\n",
       "      <td>United-States</td>\n",
       "      <td>&lt;=50K.</td>\n",
       "    </tr>\n",
       "    <tr>\n",
       "      <th>1</th>\n",
       "      <td>38</td>\n",
       "      <td>Private</td>\n",
       "      <td>89814</td>\n",
       "      <td>HS-grad</td>\n",
       "      <td>9</td>\n",
       "      <td>Married-civ-spouse</td>\n",
       "      <td>Farming-fishing</td>\n",
       "      <td>Husband</td>\n",
       "      <td>White</td>\n",
       "      <td>Male</td>\n",
       "      <td>0</td>\n",
       "      <td>0</td>\n",
       "      <td>50</td>\n",
       "      <td>United-States</td>\n",
       "      <td>&lt;=50K.</td>\n",
       "    </tr>\n",
       "    <tr>\n",
       "      <th>2</th>\n",
       "      <td>28</td>\n",
       "      <td>Local-gov</td>\n",
       "      <td>336951</td>\n",
       "      <td>Assoc-acdm</td>\n",
       "      <td>12</td>\n",
       "      <td>Married-civ-spouse</td>\n",
       "      <td>Protective-serv</td>\n",
       "      <td>Husband</td>\n",
       "      <td>White</td>\n",
       "      <td>Male</td>\n",
       "      <td>0</td>\n",
       "      <td>0</td>\n",
       "      <td>40</td>\n",
       "      <td>United-States</td>\n",
       "      <td>&gt;50K.</td>\n",
       "    </tr>\n",
       "    <tr>\n",
       "      <th>3</th>\n",
       "      <td>44</td>\n",
       "      <td>Private</td>\n",
       "      <td>160323</td>\n",
       "      <td>Some-college</td>\n",
       "      <td>10</td>\n",
       "      <td>Married-civ-spouse</td>\n",
       "      <td>Machine-op-inspct</td>\n",
       "      <td>Husband</td>\n",
       "      <td>Black</td>\n",
       "      <td>Male</td>\n",
       "      <td>7688</td>\n",
       "      <td>0</td>\n",
       "      <td>40</td>\n",
       "      <td>United-States</td>\n",
       "      <td>&gt;50K.</td>\n",
       "    </tr>\n",
       "    <tr>\n",
       "      <th>4</th>\n",
       "      <td>18</td>\n",
       "      <td>?</td>\n",
       "      <td>103497</td>\n",
       "      <td>Some-college</td>\n",
       "      <td>10</td>\n",
       "      <td>Never-married</td>\n",
       "      <td>?</td>\n",
       "      <td>Own-child</td>\n",
       "      <td>White</td>\n",
       "      <td>Female</td>\n",
       "      <td>0</td>\n",
       "      <td>0</td>\n",
       "      <td>30</td>\n",
       "      <td>United-States</td>\n",
       "      <td>&lt;=50K.</td>\n",
       "    </tr>\n",
       "    <tr>\n",
       "      <th>...</th>\n",
       "      <td>...</td>\n",
       "      <td>...</td>\n",
       "      <td>...</td>\n",
       "      <td>...</td>\n",
       "      <td>...</td>\n",
       "      <td>...</td>\n",
       "      <td>...</td>\n",
       "      <td>...</td>\n",
       "      <td>...</td>\n",
       "      <td>...</td>\n",
       "      <td>...</td>\n",
       "      <td>...</td>\n",
       "      <td>...</td>\n",
       "      <td>...</td>\n",
       "      <td>...</td>\n",
       "    </tr>\n",
       "    <tr>\n",
       "      <th>16276</th>\n",
       "      <td>39</td>\n",
       "      <td>Private</td>\n",
       "      <td>215419</td>\n",
       "      <td>Bachelors</td>\n",
       "      <td>13</td>\n",
       "      <td>Divorced</td>\n",
       "      <td>Prof-specialty</td>\n",
       "      <td>Not-in-family</td>\n",
       "      <td>White</td>\n",
       "      <td>Female</td>\n",
       "      <td>0</td>\n",
       "      <td>0</td>\n",
       "      <td>36</td>\n",
       "      <td>United-States</td>\n",
       "      <td>&lt;=50K.</td>\n",
       "    </tr>\n",
       "    <tr>\n",
       "      <th>16277</th>\n",
       "      <td>64</td>\n",
       "      <td>?</td>\n",
       "      <td>321403</td>\n",
       "      <td>HS-grad</td>\n",
       "      <td>9</td>\n",
       "      <td>Widowed</td>\n",
       "      <td>?</td>\n",
       "      <td>Other-relative</td>\n",
       "      <td>Black</td>\n",
       "      <td>Male</td>\n",
       "      <td>0</td>\n",
       "      <td>0</td>\n",
       "      <td>40</td>\n",
       "      <td>United-States</td>\n",
       "      <td>&lt;=50K.</td>\n",
       "    </tr>\n",
       "    <tr>\n",
       "      <th>16278</th>\n",
       "      <td>38</td>\n",
       "      <td>Private</td>\n",
       "      <td>374983</td>\n",
       "      <td>Bachelors</td>\n",
       "      <td>13</td>\n",
       "      <td>Married-civ-spouse</td>\n",
       "      <td>Prof-specialty</td>\n",
       "      <td>Husband</td>\n",
       "      <td>White</td>\n",
       "      <td>Male</td>\n",
       "      <td>0</td>\n",
       "      <td>0</td>\n",
       "      <td>50</td>\n",
       "      <td>United-States</td>\n",
       "      <td>&lt;=50K.</td>\n",
       "    </tr>\n",
       "    <tr>\n",
       "      <th>16279</th>\n",
       "      <td>44</td>\n",
       "      <td>Private</td>\n",
       "      <td>83891</td>\n",
       "      <td>Bachelors</td>\n",
       "      <td>13</td>\n",
       "      <td>Divorced</td>\n",
       "      <td>Adm-clerical</td>\n",
       "      <td>Own-child</td>\n",
       "      <td>Asian-Pac-Islander</td>\n",
       "      <td>Male</td>\n",
       "      <td>5455</td>\n",
       "      <td>0</td>\n",
       "      <td>40</td>\n",
       "      <td>United-States</td>\n",
       "      <td>&lt;=50K.</td>\n",
       "    </tr>\n",
       "    <tr>\n",
       "      <th>16280</th>\n",
       "      <td>35</td>\n",
       "      <td>Self-emp-inc</td>\n",
       "      <td>182148</td>\n",
       "      <td>Bachelors</td>\n",
       "      <td>13</td>\n",
       "      <td>Married-civ-spouse</td>\n",
       "      <td>Exec-managerial</td>\n",
       "      <td>Husband</td>\n",
       "      <td>White</td>\n",
       "      <td>Male</td>\n",
       "      <td>0</td>\n",
       "      <td>0</td>\n",
       "      <td>60</td>\n",
       "      <td>United-States</td>\n",
       "      <td>&gt;50K.</td>\n",
       "    </tr>\n",
       "  </tbody>\n",
       "</table>\n",
       "<p>16281 rows × 15 columns</p>\n",
       "</div>"
      ],
      "text/plain": [
       "       age      workclass  fnlwgt      education  education-num  \\\n",
       "0       25        Private  226802           11th              7   \n",
       "1       38        Private   89814        HS-grad              9   \n",
       "2       28      Local-gov  336951     Assoc-acdm             12   \n",
       "3       44        Private  160323   Some-college             10   \n",
       "4       18              ?  103497   Some-college             10   \n",
       "...    ...            ...     ...            ...            ...   \n",
       "16276   39        Private  215419      Bachelors             13   \n",
       "16277   64              ?  321403        HS-grad              9   \n",
       "16278   38        Private  374983      Bachelors             13   \n",
       "16279   44        Private   83891      Bachelors             13   \n",
       "16280   35   Self-emp-inc  182148      Bachelors             13   \n",
       "\n",
       "            marital-status          occupation     relationship  \\\n",
       "0            Never-married   Machine-op-inspct        Own-child   \n",
       "1       Married-civ-spouse     Farming-fishing          Husband   \n",
       "2       Married-civ-spouse     Protective-serv          Husband   \n",
       "3       Married-civ-spouse   Machine-op-inspct          Husband   \n",
       "4            Never-married                   ?        Own-child   \n",
       "...                    ...                 ...              ...   \n",
       "16276             Divorced      Prof-specialty    Not-in-family   \n",
       "16277              Widowed                   ?   Other-relative   \n",
       "16278   Married-civ-spouse      Prof-specialty          Husband   \n",
       "16279             Divorced        Adm-clerical        Own-child   \n",
       "16280   Married-civ-spouse     Exec-managerial          Husband   \n",
       "\n",
       "                      race      sex  capital-gain  capital-loss  \\\n",
       "0                    Black     Male             0             0   \n",
       "1                    White     Male             0             0   \n",
       "2                    White     Male             0             0   \n",
       "3                    Black     Male          7688             0   \n",
       "4                    White   Female             0             0   \n",
       "...                    ...      ...           ...           ...   \n",
       "16276                White   Female             0             0   \n",
       "16277                Black     Male             0             0   \n",
       "16278                White     Male             0             0   \n",
       "16279   Asian-Pac-Islander     Male          5455             0   \n",
       "16280                White     Male             0             0   \n",
       "\n",
       "       hours-per-week  native-country    class  \n",
       "0                  40   United-States   <=50K.  \n",
       "1                  50   United-States   <=50K.  \n",
       "2                  40   United-States    >50K.  \n",
       "3                  40   United-States    >50K.  \n",
       "4                  30   United-States   <=50K.  \n",
       "...               ...             ...      ...  \n",
       "16276              36   United-States   <=50K.  \n",
       "16277              40   United-States   <=50K.  \n",
       "16278              50   United-States   <=50K.  \n",
       "16279              40   United-States   <=50K.  \n",
       "16280              60   United-States    >50K.  \n",
       "\n",
       "[16281 rows x 15 columns]"
      ]
     },
     "execution_count": 56,
     "metadata": {},
     "output_type": "execute_result"
    }
   ],
   "source": [
    "adult_te"
   ]
  },
  {
   "cell_type": "code",
   "execution_count": 80,
   "id": "5b90fd0e",
   "metadata": {},
   "outputs": [
    {
     "data": {
      "text/plain": [
       "tensor([[0, 1],\n",
       "        [1, 0],\n",
       "        [1, 1]])"
      ]
     },
     "execution_count": 80,
     "metadata": {},
     "output_type": "execute_result"
    }
   ],
   "source": [
    "a = torch.tensor([[0, 1 ,0], [2, 1, 0]])\n",
    "torch.nonzero(a, )"
   ]
  },
  {
   "cell_type": "code",
   "execution_count": null,
   "id": "b53c2fdd",
   "metadata": {},
   "outputs": [],
   "source": []
  }
 ],
 "metadata": {
  "kernelspec": {
   "display_name": "Python [conda env:pytorch_robust_expls]",
   "language": "python",
   "name": "conda-env-pytorch_robust_expls-py"
  },
  "language_info": {
   "codemirror_mode": {
    "name": "ipython",
    "version": 3
   },
   "file_extension": ".py",
   "mimetype": "text/x-python",
   "name": "python",
   "nbconvert_exporter": "python",
   "pygments_lexer": "ipython3",
   "version": "3.9.7"
  }
 },
 "nbformat": 4,
 "nbformat_minor": 5
}
