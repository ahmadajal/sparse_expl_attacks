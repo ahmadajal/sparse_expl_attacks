{
 "cells": [
  {
   "cell_type": "code",
   "execution_count": 14,
   "id": "22c710e6",
   "metadata": {},
   "outputs": [
    {
     "name": "stdout",
     "output_type": "stream",
     "text": [
      "The autoreload extension is already loaded. To reload it, use:\n",
      "  %reload_ext autoreload\n"
     ]
    }
   ],
   "source": [
    "import os\n",
    "os.chdir(\"../src/\")\n",
    "import numpy as np\n",
    "import scipy.spatial as spatial\n",
    "import torch\n",
    "import torchvision\n",
    "import matplotlib.pyplot as plt\n",
    "from captum.attr import visualization as viz\n",
    "\n",
    "from models.resnet import ResNet18 as ResNet18_ReLu\n",
    "from models.resnet_softplus_10 import ResNet18\n",
    "from sparse_expl_attacks import image_datasets_dir, models_weights_dir, output_dir\n",
    "from sparse_expl_attacks.sparse_attack import SparseAttack\n",
    "from sparse_expl_attacks.utils import DifferentiableNormalize, get_expl, topk_intersect\n",
    "\n",
    "%matplotlib inline\n",
    "%load_ext autoreload\n",
    "%autoreload 2"
   ]
  },
  {
   "cell_type": "code",
   "execution_count": 2,
   "id": "7049fe65",
   "metadata": {},
   "outputs": [],
   "source": [
    "# Attack params\n",
    "num_iter = 100\n",
    "lr = 0.1\n",
    "expl_method = \"saliency\"\n",
    "topk = 20\n",
    "max_num_features = 20\n",
    "gamma = 1e1"
   ]
  },
  {
   "cell_type": "code",
   "execution_count": 3,
   "id": "4fb65ba8",
   "metadata": {},
   "outputs": [],
   "source": [
    "# Set the device (cpu or gpu).\n",
    "device = torch.device(\"cuda\" if torch.cuda.is_available() else \"cpu\")"
   ]
  },
  {
   "cell_type": "code",
   "execution_count": 4,
   "id": "408c4cc6",
   "metadata": {},
   "outputs": [
    {
     "name": "stdout",
     "output_type": "stream",
     "text": [
      "Files already downloaded and verified\n"
     ]
    }
   ],
   "source": [
    "SEED = 72\n",
    "# Set the seed.\n",
    "np.random.seed(SEED)\n",
    "torch.manual_seed(SEED)\n",
    "torch.cuda.manual_seed(SEED)\n",
    "# Defining the normalizer for CIFAR-10 images.\n",
    "data_mean = np.array([0.4914, 0.4822, 0.4465])\n",
    "data_std = np.array([0.2023, 0.1994, 0.2010])\n",
    "normalizer = DifferentiableNormalize(mean=data_mean, std=data_std)\n",
    "# Loading the CIFAR-10 test dataset.\n",
    "cifar_test = torchvision.datasets.CIFAR10(\n",
    "    root=os.path.join(image_datasets_dir, \"cifar-10\"),\n",
    "    train=False,\n",
    "    download=True,\n",
    "    transform=torchvision.transforms.ToTensor(),\n",
    ")\n",
    "\n",
    "test_loader = torch.utils.data.DataLoader(cifar_test, batch_size=128, shuffle=True)\n",
    "BATCH_SIZE = 16\n",
    "indices = np.random.randint(128, size=BATCH_SIZE)\n",
    "# Load images.\n",
    "dataiter = iter(test_loader)\n",
    "images_batch, labels_batch = next(dataiter)\n",
    "examples = images_batch[indices].to(device)\n",
    "labels = labels_batch[indices].to(device)"
   ]
  },
  {
   "cell_type": "code",
   "execution_count": 5,
   "id": "44f2f9b5",
   "metadata": {},
   "outputs": [
    {
     "data": {
      "text/plain": [
       "<matplotlib.image.AxesImage at 0x7fc599854370>"
      ]
     },
     "execution_count": 5,
     "metadata": {},
     "output_type": "execute_result"
    },
    {
     "data": {
      "image/png": "[encoded data removed]",
      "text/plain": [
       "<Figure size 432x288 with 1 Axes>"
      ]
     },
     "metadata": {
      "needs_background": "light"
     },
     "output_type": "display_data"
    }
   ],
   "source": [
    "# Show a sample image\n",
    "# Convert torch tensor to image\n",
    "img = examples[0:1].permute(0, 2, 3, 1)\n",
    "img = img.contiguous().squeeze().detach().cpu().numpy()\n",
    "img = np.clip(img, 0, 1)\n",
    "plt.imshow(img)"
   ]
  },
  {
   "cell_type": "code",
   "execution_count": 6,
   "id": "a5fbdff3",
   "metadata": {},
   "outputs": [],
   "source": [
    "# Softplus model\n",
    "model = ResNet18()\n",
    "model.load_state_dict(torch.load(os.path.join(models_weights_dir, \"RN18_standard.pth\"))[\"net\"])\n",
    "model = model.eval().to(device)\n",
    "# ReLu model\n",
    "model_relu = ResNet18_ReLu()\n",
    "model_relu.load_state_dict(\n",
    "    torch.load(os.path.join(models_weights_dir, \"RN18_standard.pth\"))[\"net\"]\n",
    ")\n",
    "model_relu = model_relu.eval().to(device)"
   ]
  },
  {
   "cell_type": "code",
   "execution_count": 7,
   "id": "55023166",
   "metadata": {},
   "outputs": [
    {
     "name": "stdout",
     "output_type": "stream",
     "text": [
      "number of samples: 15\n"
     ]
    }
   ],
   "source": [
    "# Keep only instances for which the model prediction is correct.\n",
    "with torch.no_grad():\n",
    "    preds = model_relu(normalizer.forward(examples)).argmax(dim=1).detach()\n",
    "    samples_to_pick = preds == labels\n",
    "    examples = examples[samples_to_pick]\n",
    "    labels = labels[samples_to_pick]\n",
    "BATCH_SIZE = examples.size()[0]\n",
    "print(f\"number of samples: {examples.size()[0]}\")"
   ]
  },
  {
   "cell_type": "code",
   "execution_count": 8,
   "id": "2d578c60",
   "metadata": {},
   "outputs": [],
   "source": [
    "# Perform the attack.\n",
    "sparse_attack = SparseAttack(\n",
    "    model=model,\n",
    "    model_relu=model_relu,\n",
    "    expl_method=expl_method,\n",
    "    num_iter=num_iter,\n",
    "    lr=lr,\n",
    "    topk=topk,\n",
    "    max_num_features=max_num_features,\n",
    "    gamma=gamma,\n",
    "    normalizer=normalizer,\n",
    ")"
   ]
  },
  {
   "cell_type": "code",
   "execution_count": 9,
   "id": "cab4b5ba",
   "metadata": {},
   "outputs": [
    {
     "data": {
      "text/plain": [
       "<sparse_expl_attacks.sparse_attack.SparseAttack at 0x7fc6a83a38e0>"
      ]
     },
     "execution_count": 9,
     "metadata": {},
     "output_type": "execute_result"
    }
   ],
   "source": [
    "sparse_attack"
   ]
  },
  {
   "cell_type": "code",
   "execution_count": 10,
   "id": "9bf6acf0",
   "metadata": {},
   "outputs": [],
   "source": [
    "x_adv_single_step = sparse_attack.attack(\n",
    "    attack_type=\"single_step\", x_input=examples, y_input=labels\n",
    ")\n",
    "\n",
    "x_adv_pgd0 = sparse_attack.attack(\n",
    "    attack_type=\"pgd0\", x_input=examples, y_input=labels\n",
    ")\n",
    "\n",
    "x_adv_greedy = sparse_attack.attack(\n",
    "    attack_type=\"greedy\", x_input=examples, y_input=labels\n",
    ")\n"
   ]
  },
  {
   "cell_type": "code",
   "execution_count": 12,
   "id": "c37a3990",
   "metadata": {},
   "outputs": [],
   "source": [
    "# Compute the explanation of a sample image for vizualising the result.\n",
    "b = 0\n",
    "org_expl = get_expl(\n",
    "    model, \n",
    "    normalizer.forward(examples[b:b+1]), \n",
    "    expl_method, \n",
    "    device,\n",
    "    labels[b:b+1], \n",
    "    normalize=False)\n",
    "\n",
    "adv_expl_single_step = get_expl(\n",
    "    model, \n",
    "    normalizer.forward(x_adv_single_step[b:b+1]), \n",
    "    expl_method, \n",
    "    device,\n",
    "    labels[b:b+1], \n",
    "    normalize=False)\n",
    "\n",
    "adv_expl_pgd0 = get_expl(\n",
    "    model, \n",
    "    normalizer.forward(x_adv_pgd0[b:b+1]), \n",
    "    expl_method, \n",
    "    device,\n",
    "    labels[b:b+1], \n",
    "    normalize=False)\n",
    "\n",
    "adv_expl_greedy = get_expl(\n",
    "    model, \n",
    "    normalizer.forward(x_adv_greedy[b:b+1]), \n",
    "    expl_method, \n",
    "    device,\n",
    "    labels[b:b+1], \n",
    "    normalize=False)"
   ]
  },
  {
   "cell_type": "code",
   "execution_count": 15,
   "id": "99986faa",
   "metadata": {},
   "outputs": [
    {
     "data": {
      "image/png": "[encoded data removed]",
      "text/plain": [
       "<Figure size 864x432 with 8 Axes>"
      ]
     },
     "metadata": {
      "needs_background": "light"
     },
     "output_type": "display_data"
    }
   ],
   "source": [
    "fig, ax = plt.subplots(2,4, figsize=(12, 6))\n",
    "ax[0,0].imshow(examples[b:b+1].squeeze().permute(1,2,0).detach().cpu().numpy())\n",
    "ax[0,0].set_title(\"Original image \\n(dog)\", fontsize=12)\n",
    "ax[0,0].axis(\"off\")\n",
    "viz.visualize_image_attr(\n",
    "    np.transpose(org_expl.squeeze().cpu().detach().numpy(), (1,2,0)),\n",
    "    np.transpose(examples[b:b+1].squeeze().cpu().detach().numpy(), (1,2,0)),\n",
    "    method='heat_map',\n",
    "    cmap=\"Reds\",\n",
    "    show_colorbar=False,\n",
    "    outlier_perc=2,\n",
    "    fig_size=(4,4), plt_fig_axis=(fig, ax[1,0]), use_pyplot=False)\n",
    "ax[1,0].axis(\"off\")\n",
    "ax[1,0].set_title(\"Original explanation\", fontsize=12)\n",
    "\n",
    "ax[0,1].imshow(x_adv_single_step[b:b+1].squeeze().permute(1,2,0).detach().cpu().numpy())\n",
    "ax[0,1].axis(\"off\")\n",
    "ax[0,1].set_title(\"Perturbed image (Single-step)\", fontsize=12)\n",
    "viz.visualize_image_attr(\n",
    "    np.transpose(adv_expl_single_step.squeeze().cpu().detach().numpy(), (1,2,0)),\n",
    "    np.transpose(x_adv_single_step[b:b+1].squeeze().cpu().detach().numpy(), (1,2,0)),\n",
    "    method='heat_map',\n",
    "    cmap=\"Reds\",\n",
    "    show_colorbar=False,\n",
    "    outlier_perc=2,\n",
    "    fig_size=(4,4), plt_fig_axis=(fig, ax[1,1]), use_pyplot=False)\n",
    "ax[1,1].axis(\"off\")\n",
    "ax[1,1].set_title(\"Perturbed explanation\", fontsize=12)\n",
    "\n",
    "ax[0,2].imshow(x_adv_pgd0[b:b+1].squeeze().permute(1,2,0).detach().cpu().numpy())\n",
    "ax[0,2].axis(\"off\")\n",
    "ax[0,2].set_title(\"Perturbed image (PGD with $\\ell_0$)\", fontsize=12)\n",
    "viz.visualize_image_attr(\n",
    "    np.transpose(adv_expl_pgd0.squeeze().cpu().detach().numpy(), (1,2,0)),\n",
    "    np.transpose(x_adv_pgd0[b:b+1].squeeze().cpu().detach().numpy(), (1,2,0)),\n",
    "    method='heat_map',\n",
    "    cmap=\"Reds\",\n",
    "    show_colorbar=False,\n",
    "    outlier_perc=2,\n",
    "    fig_size=(4,4), plt_fig_axis=(fig, ax[1,2]), use_pyplot=False)\n",
    "ax[1,2].axis(\"off\")\n",
    "ax[1,2].set_title(\"Perturbed explanation\", fontsize=12)\n",
    "\n",
    "ax[0,3].imshow(x_adv_greedy[b:b+1].squeeze().permute(1,2,0).detach().cpu().numpy())\n",
    "ax[0,3].axis(\"off\")\n",
    "ax[0,3].set_title(\"Perturbed image (Greedy)\", fontsize=12)\n",
    "viz.visualize_image_attr(\n",
    "    np.transpose(adv_expl_greedy.squeeze().cpu().detach().numpy(), (1,2,0)),\n",
    "    np.transpose(x_adv_greedy[b:b+1].squeeze().cpu().detach().numpy(), (1,2,0)),\n",
    "    method='heat_map',\n",
    "    cmap=\"Reds\",\n",
    "    show_colorbar=False,\n",
    "    outlier_perc=2,\n",
    "    fig_size=(4,4), plt_fig_axis=(fig, ax[1,3]), use_pyplot=False)\n",
    "ax[1,3].axis(\"off\")\n",
    "ax[1,3].set_title(\"Perturbed explanation\", fontsize=12)\n",
    "\n",
    "plt.subplots_adjust(wspace=0.1);"
   ]
  },
  {
   "cell_type": "code",
   "execution_count": 19,
   "id": "a751de34",
   "metadata": {},
   "outputs": [],
   "source": [
    "num_pixels_single_step = np.sum(\n",
    "    np.amax(np.abs((x_adv_single_step - examples).cpu().detach().numpy()) > 1e-10, axis=1),\n",
    "    axis=(1, 2),\n",
    ")\n",
    "\n",
    "num_pixels_pgd0 = np.sum(\n",
    "    np.amax(np.abs((x_adv_pgd0 - examples).cpu().detach().numpy()) > 1e-10, axis=1),\n",
    "    axis=(1, 2),\n",
    ")\n",
    "\n",
    "num_pixels_greedy = np.sum(\n",
    "    np.amax(np.abs((x_adv_greedy - examples).cpu().detach().numpy()) > 1e-10, axis=1),\n",
    "    axis=(1, 2),\n",
    ")\n",
    "\n"
   ]
  },
  {
   "cell_type": "code",
   "execution_count": 20,
   "id": "d450554e",
   "metadata": {},
   "outputs": [
    {
     "ename": "SyntaxError",
     "evalue": "EOL while scanning string literal (2872359233.py, line 2)",
     "output_type": "error",
     "traceback": [
      "\u001b[0;36m  File \u001b[0;32m\"/tmp/ipykernel_310372/2872359233.py\"\u001b[0;36m, line \u001b[0;32m2\u001b[0m\n\u001b[0;31m    f\"mean perturbation: \\n\u001b[0m\n\u001b[0m                           ^\u001b[0m\n\u001b[0;31mSyntaxError\u001b[0m\u001b[0;31m:\u001b[0m EOL while scanning string literal\n"
     ]
    }
   ],
   "source": [
    "print(\n",
    "    f\"mean perturbation: \\n\n",
    "    single step: {np.mean(num_pixels_single_step)} \\n\n",
    "    PGD_0: {np.mean(num_pixels_pgd0)} \\n\n",
    "    greedy: {np.mean(num_pixels_greedy)}\"\n",
    ")"
   ]
  },
  {
   "cell_type": "code",
   "execution_count": null,
   "id": "e6ea914e",
   "metadata": {},
   "outputs": [],
   "source": []
  }
 ],
 "metadata": {
  "kernelspec": {
   "display_name": "Python [conda env:pytorch_robust_expls]",
   "language": "python",
   "name": "conda-env-pytorch_robust_expls-py"
  },
  "language_info": {
   "codemirror_mode": {
    "name": "ipython",
    "version": 3
   },
   "file_extension": ".py",
   "mimetype": "text/x-python",
   "name": "python",
   "nbconvert_exporter": "python",
   "pygments_lexer": "ipython3",
   "version": "3.9.7"
  }
 },
 "nbformat": 4,
 "nbformat_minor": 5
}
