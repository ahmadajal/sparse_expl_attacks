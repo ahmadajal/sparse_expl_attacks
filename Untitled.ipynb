{
 "cells": [
  {
   "cell_type": "code",
   "execution_count": 28,
   "metadata": {},
   "outputs": [],
   "source": [
    "import numpy as np\n",
    "import re\n",
    "\n",
    "import torch\n",
    "import torch.nn as nn\n",
    "import torch.optim as optim\n",
    "import torchvision\n",
    "import torch.nn.functional as F\n",
    "import matplotlib.pyplot as plt\n",
    "import matplotlib"
   ]
  },
  {
   "cell_type": "code",
   "execution_count": 29,
   "metadata": {},
   "outputs": [],
   "source": [
    "data_mean = np.array([0.485, 0.456, 0.406])\n",
    "data_std = np.array([0.229, 0.224, 0.225])\n",
    "np.random.seed(72)\n",
    "torch.manual_seed(72)\n",
    "torch.cuda.manual_seed(72)\n",
    "trasform_imagenet = torchvision.transforms.Compose([torchvision.transforms.Resize(256),\n",
    "                                        torchvision.transforms.CenterCrop(224),\n",
    "                                        torchvision.transforms.ToTensor()])\n",
    "\n",
    "imagenet_val = torchvision.datasets.ImageNet(root=\"../Robust_Explanations/notebooks/data/\", split=\"val\", transform=trasform_imagenet)\n",
    "\n",
    "test_loader = torch.utils.data.DataLoader(\n",
    "        imagenet_val,\n",
    "        batch_size=1024,\n",
    "        shuffle=True\n",
    "    )\n",
    "BATCH_SIZE = 4\n",
    "indices = np.random.randint(1024, size=BATCH_SIZE)\n",
    "#### load images #####\n",
    "dataiter = iter(test_loader)\n",
    "images_batch, labels_batch = next(dataiter)\n",
    "examples = images_batch[indices]\n",
    "labels = labels_batch[indices]"
   ]
  },
  {
   "cell_type": "code",
   "execution_count": 30,
   "metadata": {},
   "outputs": [],
   "source": [
    "x_adv = torch.load(\"examples/output_expl_topk_relu_l1/x_saliency.pth\")"
   ]
  },
  {
   "cell_type": "code",
   "execution_count": 31,
   "metadata": {},
   "outputs": [],
   "source": [
    "x_adv = x_adv.cpu()"
   ]
  },
  {
   "cell_type": "code",
   "execution_count": 32,
   "metadata": {},
   "outputs": [
    {
     "data": {
      "text/plain": [
       "tensor([[[0.2077, 0.2081, 0.2155,  ..., 0.3211, 0.3212, 0.3178],\n",
       "         [0.2156, 0.2197, 0.2248,  ..., 0.3318, 0.3162, 0.3256],\n",
       "         [0.2344, 0.2344, 0.2375,  ..., 0.3387, 0.3263, 0.3256],\n",
       "         ...,\n",
       "         [0.4044, 0.3650, 0.3607,  ..., 0.2652, 0.2519, 0.2675],\n",
       "         [0.3572, 0.3808, 0.3462,  ..., 0.2776, 0.2635, 0.2518],\n",
       "         [0.3414, 0.3458, 0.3344,  ..., 0.2730, 0.2471, 0.2398]],\n",
       "\n",
       "        [[0.2087, 0.2049, 0.2156,  ..., 0.3165, 0.3157, 0.3163],\n",
       "         [0.2166, 0.2206, 0.2211,  ..., 0.3284, 0.3118, 0.3203],\n",
       "         [0.2310, 0.2311, 0.2331,  ..., 0.3387, 0.3230, 0.3230],\n",
       "         ...,\n",
       "         [0.4009, 0.3625, 0.3566,  ..., 0.2620, 0.2558, 0.2676],\n",
       "         [0.3539, 0.3773, 0.3428,  ..., 0.2740, 0.2676, 0.2556],\n",
       "         [0.3375, 0.3420, 0.3307,  ..., 0.2738, 0.2511, 0.2397]],\n",
       "\n",
       "        [[0.2000, 0.1956, 0.2058,  ..., 0.3016, 0.2999, 0.2984],\n",
       "         [0.2089, 0.2116, 0.2106,  ..., 0.3144, 0.2964, 0.3046],\n",
       "         [0.2150, 0.2176, 0.2193,  ..., 0.3237, 0.3120, 0.3100],\n",
       "         ...,\n",
       "         [0.3847, 0.3457, 0.3409,  ..., 0.2551, 0.2360, 0.2553],\n",
       "         [0.3378, 0.3613, 0.3267,  ..., 0.2668, 0.2476, 0.2430],\n",
       "         [0.3292, 0.3261, 0.3144,  ..., 0.2669, 0.2315, 0.2276]]])"
      ]
     },
     "execution_count": 32,
     "metadata": {},
     "output_type": "execute_result"
    }
   ],
   "source": [
    "x_adv[1]"
   ]
  },
  {
   "cell_type": "code",
   "execution_count": 33,
   "metadata": {},
   "outputs": [],
   "source": [
    "delta = examples[1] - x_adv[1]"
   ]
  },
  {
   "cell_type": "code",
   "execution_count": 37,
   "metadata": {},
   "outputs": [
    {
     "data": {
      "text/plain": [
       "(17345,)"
      ]
     },
     "execution_count": 37,
     "metadata": {},
     "output_type": "execute_result"
    }
   ],
   "source": [
    "np.where(delta.numpy()>0.001)[1].shape"
   ]
  },
  {
   "cell_type": "code",
   "execution_count": 23,
   "metadata": {},
   "outputs": [
    {
     "data": {
      "text/plain": [
       "torch.Size([3, 224, 224])"
      ]
     },
     "execution_count": 23,
     "metadata": {},
     "output_type": "execute_result"
    }
   ],
   "source": [
    "delta.size()"
   ]
  },
  {
   "cell_type": "code",
   "execution_count": null,
   "metadata": {},
   "outputs": [],
   "source": []
  }
 ],
 "metadata": {
  "kernelspec": {
   "display_name": "Environment (conda_pytorch_latest_p37)",
   "language": "python",
   "name": "conda_pytorch_latest_p37"
  },
  "language_info": {
   "codemirror_mode": {
    "name": "ipython",
    "version": 3
   },
   "file_extension": ".py",
   "mimetype": "text/x-python",
   "name": "python",
   "nbconvert_exporter": "python",
   "pygments_lexer": "ipython3",
   "version": "3.7.6"
  }
 },
 "nbformat": 4,
 "nbformat_minor": 4
}
